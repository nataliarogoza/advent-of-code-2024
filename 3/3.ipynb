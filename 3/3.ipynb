{
 "cells": [
  {
   "cell_type": "markdown",
   "id": "1bc46eca-7d41-4b83-a2a4-813b1f5a8fb8",
   "metadata": {},
   "source": [
    "# Advent of Code 2024"
   ]
  },
  {
   "cell_type": "markdown",
   "id": "8892cc5f-97e8-4cea-ac66-9252dc2afd45",
   "metadata": {},
   "source": [
    "## Day 3"
   ]
  },
  {
   "cell_type": "markdown",
   "id": "ce98874b-93fc-4285-9836-8991bc33c890",
   "metadata": {},
   "source": [
    "### Part One - Calculate uncorrupted"
   ]
  },
  {
   "cell_type": "code",
   "execution_count": 1,
   "id": "eb1c1141-2075-456a-8e03-4422703234ae",
   "metadata": {},
   "outputs": [],
   "source": [
    "# Use of regex\n",
    "import re "
   ]
  },
  {
   "cell_type": "code",
   "execution_count": 2,
   "id": "bcf1ca5a-1d74-42b4-b29c-ac46f5f30ba1",
   "metadata": {},
   "outputs": [],
   "source": [
    "with open(\"3-input.txt\", \"r\") as file:\n",
    "    text = str(file.readlines())"
   ]
  },
  {
   "cell_type": "markdown",
   "id": "981001a1-c44c-4a16-8090-211860afdf70",
   "metadata": {},
   "source": [
    "#### side notes:\n",
    "- remember about escape characters before, for example, round bracket symbols\n",
    "- \\d = any digit = [0-9]\n",
    "- \\+ = one or more occurences"
   ]
  },
  {
   "cell_type": "code",
   "execution_count": 3,
   "id": "31356954-5a6e-4fa2-8eba-3615b2b8f2f5",
   "metadata": {},
   "outputs": [
    {
     "data": {
      "text/plain": [
       "[('317', '745'), ('67', '323'), ('304', '399'), ('268', '613'), ('41', '576')]"
      ]
     },
     "execution_count": 3,
     "metadata": {},
     "output_type": "execute_result"
    }
   ],
   "source": [
    "matched = re.findall(r\"mul\\((\\d+),(\\d+)\\)\", text) \n",
    "matched[:5] # Peek first 5 matches found"
   ]
  },
  {
   "cell_type": "code",
   "execution_count": 4,
   "id": "df9d7340-b511-4f74-8fe4-62ba0160cf14",
   "metadata": {},
   "outputs": [
    {
     "data": {
      "text/plain": [
       "178794710"
      ]
     },
     "execution_count": 4,
     "metadata": {},
     "output_type": "execute_result"
    }
   ],
   "source": [
    "solution = 0\n",
    "for pair in matched:\n",
    "    solution += int(pair[0]) * int(pair[1])\n",
    "    \n",
    "solution"
   ]
  },
  {
   "cell_type": "markdown",
   "id": "88bb3db9-0694-45d9-b8e3-f09069ce7a03",
   "metadata": {},
   "source": [
    "### Part Two - Calculate uncorrupted enabled"
   ]
  },
  {
   "cell_type": "code",
   "execution_count": 5,
   "id": "5086b346-8032-4e5b-9728-d57c8811ea3b",
   "metadata": {},
   "outputs": [
    {
     "data": {
      "text/plain": [
       "[('317', '745'), ('67', '323'), ('304', '399'), ('268', '613'), ('9', '214')]"
      ]
     },
     "execution_count": 5,
     "metadata": {},
     "output_type": "execute_result"
    }
   ],
   "source": [
    "# We need different regex that will divide text into sections\n",
    "dont = r\"don't\\(\\)\"\n",
    "do = r\"do\\(\\)\"\n",
    "\n",
    "sections = re.split(f\"({dont}|{do})\", text) # Split into sections if one of expressions is found\n",
    "\n",
    "get_data = True # Set flag to retrieve data at first\n",
    "enabled_data = []\n",
    "mul = r\"mul\\((\\d+),(\\d+)\\)\"\n",
    "\n",
    "# Iterate through sections\n",
    "for section in sections:\n",
    "    if section == \"don't()\":\n",
    "        get_data = False  \n",
    "    elif section == \"do()\":\n",
    "        get_data = True   \n",
    "    elif get_data:\n",
    "        matched = re.findall(mul, section)\n",
    "        enabled_data.extend(matched)  # Extend, not append, because there may be many matches, and we want flat list in the end\n",
    "            \n",
    "enabled_data[:5] # Peek first 5 enabled pairs"
   ]
  },
  {
   "cell_type": "code",
   "execution_count": 6,
   "id": "e1d91f02-c9fd-4af3-8e06-e26f58f62cec",
   "metadata": {},
   "outputs": [
    {
     "data": {
      "text/plain": [
       "76729637"
      ]
     },
     "execution_count": 6,
     "metadata": {},
     "output_type": "execute_result"
    }
   ],
   "source": [
    "solution2 = 0\n",
    "for pair in enabled_data:\n",
    "    solution2 += int(pair[0]) * int(pair[1])\n",
    "    \n",
    "solution2"
   ]
  }
 ],
 "metadata": {
  "kernelspec": {
   "display_name": "Python 3 (ipykernel)",
   "language": "python",
   "name": "python3"
  },
  "language_info": {
   "codemirror_mode": {
    "name": "ipython",
    "version": 3
   },
   "file_extension": ".py",
   "mimetype": "text/x-python",
   "name": "python",
   "nbconvert_exporter": "python",
   "pygments_lexer": "ipython3",
   "version": "3.8.18"
  }
 },
 "nbformat": 4,
 "nbformat_minor": 5
}
