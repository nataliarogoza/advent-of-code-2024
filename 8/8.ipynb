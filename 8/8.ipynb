{
 "cells": [
  {
   "cell_type": "markdown",
   "id": "1bc46eca-7d41-4b83-a2a4-813b1f5a8fb8",
   "metadata": {},
   "source": [
    "# Advent of Code 2024"
   ]
  },
  {
   "cell_type": "markdown",
   "id": "8892cc5f-97e8-4cea-ac66-9252dc2afd45",
   "metadata": {},
   "source": [
    "## Day 8"
   ]
  },
  {
   "cell_type": "code",
   "execution_count": 1,
   "id": "7ec59fe4-cbd2-4c3e-8320-16ff2eeab3ad",
   "metadata": {},
   "outputs": [],
   "source": [
    "import numpy as np\n",
    "from itertools import combinations"
   ]
  },
  {
   "cell_type": "code",
   "execution_count": 2,
   "id": "054e21cd-7d96-420b-9352-c9855c085330",
   "metadata": {},
   "outputs": [],
   "source": [
    "def parse_input(filename):\n",
    "    city = []\n",
    "    with open(filename, \"r\") as file:\n",
    "        for line in file:\n",
    "            city.append(list(line.strip()))\n",
    "    return np.array(city)"
   ]
  },
  {
   "cell_type": "code",
   "execution_count": 3,
   "id": "725b58e5-dba5-4f77-b4f7-9aeb5d363f05",
   "metadata": {},
   "outputs": [],
   "source": [
    "def get_antinodes(one, two, shape):\n",
    "    rows, cols = shape\n",
    "    \n",
    "    x1, y1 = one\n",
    "    x2, y2 = two\n",
    "        \n",
    "    # get difference between antennas in x-axis\n",
    "    move_x = abs(x2 - x1)\n",
    "    \n",
    "    # get difference between antennas in y-axis\n",
    "    move_y = abs(y2 - y1)\n",
    "\n",
    "    # find direction of antinodes\n",
    "    dir_x = 1 if x2 > x1 else -1 if x1 > x2 else 0\n",
    "    dir_y = 1 if y2 > y1 else -1 if y1 > y2 else 0\n",
    "\n",
    "    # find position of antinodes and if they're within city bounds\n",
    "    valid_antinodes = []\n",
    "    \n",
    "    antinode1 = (x1 - dir_x * move_x, y1 - dir_y * move_y)\n",
    "    antinode2 = (x2 + dir_x * move_x, y2 + dir_y * move_y)\n",
    "\n",
    "    valid_antinodes = []\n",
    "    if 0 <= antinode1[0] < rows and 0 <= antinode1[1] < cols:\n",
    "        valid_antinodes.append(antinode1)\n",
    "    if 0 <= antinode2[0] < rows and 0 <= antinode2[1] < cols:\n",
    "        valid_antinodes.append(antinode2)\n",
    "\n",
    "    return valid_antinodes"
   ]
  },
  {
   "cell_type": "code",
   "execution_count": 4,
   "id": "7521663b-fb8e-45d3-8fcf-0eb3cd12a144",
   "metadata": {},
   "outputs": [],
   "source": [
    "def get_antinodes_resonance(one, two, shape):\n",
    "    valid_antinodes = [one, two]\n",
    "    \n",
    "    rows, cols = shape\n",
    "    \n",
    "    x1, y1 = one\n",
    "    x2, y2 = two\n",
    "        \n",
    "    # get difference between antennas in x-axis\n",
    "    move_x = abs(x2 - x1)\n",
    "    \n",
    "    # get difference between antennas in y-axis\n",
    "    move_y = abs(y2 - y1)\n",
    "\n",
    "    # find direction of antinodes\n",
    "    dir_x = 1 if x2 > x1 else -1 if x1 > x2 else 0\n",
    "    dir_y = 1 if y2 > y1 else -1 if y1 > y2 else 0\n",
    "\n",
    "    # find position of antinodes and if they're within city bounds\n",
    "    antinode1 = (x1 - dir_x * move_x, y1 - dir_y * move_y)\n",
    "    antinode2 = (x2 + dir_x * move_x, y2 + dir_y * move_y)\n",
    "\n",
    "    # find next antinodes if they're within bounds (resonance harmonics)\n",
    "    while (0 <= antinode1[0] < rows and 0 <= antinode1[1] < cols) or (0 <= antinode2[0] < rows and 0 <= antinode2[1] < cols):\n",
    "        \n",
    "        if 0 <= antinode1[0] < rows and 0 <= antinode1[1] < cols:\n",
    "            valid_antinodes.append(antinode1)\n",
    "        if 0 <= antinode2[0] < rows and 0 <= antinode2[1] < cols:\n",
    "            valid_antinodes.append(antinode2)\n",
    "\n",
    "        antinode1 = (antinode1[0] - dir_x * move_x, antinode1[1] - dir_y * move_y)\n",
    "        antinode2 = (antinode2[0] + dir_x * move_x, antinode2[1] + dir_y * move_y)\n",
    "        \n",
    "    return valid_antinodes"
   ]
  },
  {
   "cell_type": "markdown",
   "id": "ce98874b-93fc-4285-9836-8991bc33c890",
   "metadata": {},
   "source": [
    "### Part One - Calculate unique locations within the bounds of the map that contain an antinode"
   ]
  },
  {
   "cell_type": "markdown",
   "id": "6d976d46-70df-4e63-a7de-987900c8ea92",
   "metadata": {},
   "source": [
    "#### TEST FILE"
   ]
  },
  {
   "cell_type": "code",
   "execution_count": 5,
   "id": "06f30df3-0e72-4e9c-b28c-eade1e80a8d6",
   "metadata": {},
   "outputs": [
    {
     "name": "stdout",
     "output_type": "stream",
     "text": [
      "[['.' '.' '.' '.' '.' '.' '.' '.' '.' '.' '.' '.']\n",
      " ['.' '.' '.' '.' '.' '.' '.' '.' '0' '.' '.' '.']\n",
      " ['.' '.' '.' '.' '.' '0' '.' '.' '.' '.' '.' '.']\n",
      " ['.' '.' '.' '.' '.' '.' '.' '0' '.' '.' '.' '.']\n",
      " ['.' '.' '.' '.' '0' '.' '.' '.' '.' '.' '.' '.']\n",
      " ['.' '.' '.' '.' '.' '.' 'A' '.' '.' '.' '.' '.']\n",
      " ['.' '.' '.' '.' '.' '.' '.' '.' '.' '.' '.' '.']\n",
      " ['.' '.' '.' '.' '.' '.' '.' '.' '.' '.' '.' '.']\n",
      " ['.' '.' '.' '.' '.' '.' '.' '.' 'A' '.' '.' '.']\n",
      " ['.' '.' '.' '.' '.' '.' '.' '.' '.' 'A' '.' '.']\n",
      " ['.' '.' '.' '.' '.' '.' '.' '.' '.' '.' '.' '.']\n",
      " ['.' '.' '.' '.' '.' '.' '.' '.' '.' '.' '.' '.']] \n",
      "\n",
      "Found total of 14 antinodes:\n",
      "[(0, 6), (0, 11), (1, 3), (2, 4), (2, 10), (3, 2), (4, 9), (5, 1), (5, 6), (6, 3), (7, 0), (7, 7), (10, 10), (11, 10)]\n",
      "\n",
      "[['.' '.' '.' '.' '.' '.' 'X' '.' '.' '.' '.' 'X']\n",
      " ['.' '.' '.' 'X' '.' '.' '.' '.' '0' '.' '.' '.']\n",
      " ['.' '.' '.' '.' 'X' '0' '.' '.' '.' '.' 'X' '.']\n",
      " ['.' '.' 'X' '.' '.' '.' '.' '0' '.' '.' '.' '.']\n",
      " ['.' '.' '.' '.' '0' '.' '.' '.' '.' 'X' '.' '.']\n",
      " ['.' 'X' '.' '.' '.' '.' 'X' '.' '.' '.' '.' '.']\n",
      " ['.' '.' '.' 'X' '.' '.' '.' '.' '.' '.' '.' '.']\n",
      " ['X' '.' '.' '.' '.' '.' '.' 'X' '.' '.' '.' '.']\n",
      " ['.' '.' '.' '.' '.' '.' '.' '.' 'A' '.' '.' '.']\n",
      " ['.' '.' '.' '.' '.' '.' '.' '.' '.' 'A' '.' '.']\n",
      " ['.' '.' '.' '.' '.' '.' '.' '.' '.' '.' 'X' '.']\n",
      " ['.' '.' '.' '.' '.' '.' '.' '.' '.' '.' 'X' '.']]\n"
     ]
    }
   ],
   "source": [
    "city = parse_input(\"test.txt\")\n",
    "print(city, \"\\n\")\n",
    "\n",
    "# scan for antennas, their types, and their locations\n",
    "antennas = {}\n",
    "\n",
    "for r, row in enumerate(city):\n",
    "    for c, col in enumerate(row):\n",
    "        current = city[r][c]\n",
    "\n",
    "        if current == \".\":\n",
    "            pass        \n",
    "        elif current in antennas:\n",
    "            antennas[current].append((r,c))\n",
    "        else:\n",
    "            antennas[current] = [(r,c)]\n",
    "\n",
    "# search for antinodes\n",
    "rows, columns = city.shape\n",
    "antinodes_all = set()\n",
    "\n",
    "for idx, antenna in enumerate(antennas):\n",
    "\n",
    "    antenna_type = list(antennas.keys())[idx]\n",
    "    antenna_locs = list(antennas.values())[idx]\n",
    "    \n",
    "    if len(antenna_locs) > 1:\n",
    "    \n",
    "        for i,j in combinations(antenna_locs, 2):\n",
    "            antinodes = get_antinodes(i,j, city.shape)\n",
    "            for antinode in antinodes:\n",
    "                antinodes_all.add(antinode)\n",
    "                \n",
    "answer = len(antinodes_all)\n",
    "print(f\"Found total of {answer} antinodes:\\n{sorted(antinodes_all)}\\n\")\n",
    "\n",
    "for x, y in antinodes_all:\n",
    "    city[x, y] = \"X\"\n",
    "print(city)"
   ]
  },
  {
   "cell_type": "markdown",
   "id": "078e06a8-2e9f-44bb-9449-e450d8f863ca",
   "metadata": {},
   "source": [
    "#### MY FILE"
   ]
  },
  {
   "cell_type": "code",
   "execution_count": 6,
   "id": "95b03344-9149-4634-bbb7-a788542c7eeb",
   "metadata": {},
   "outputs": [
    {
     "name": "stdout",
     "output_type": "stream",
     "text": [
      "Found total of 265 antinodes\n"
     ]
    }
   ],
   "source": [
    "city = parse_input(\"8-input.txt\")\n",
    "\n",
    "antennas = {}\n",
    "\n",
    "for r, row in enumerate(city):\n",
    "    for c, col in enumerate(row):\n",
    "        current = city[r][c]\n",
    "\n",
    "        if current == \".\":\n",
    "            pass        \n",
    "        elif current in antennas:\n",
    "            antennas[current].append((r,c))\n",
    "        else:\n",
    "            antennas[current] = [(r,c)]\n",
    "\n",
    "rows, columns = city.shape\n",
    "antinodes_all = set()\n",
    "\n",
    "for idx, antenna in enumerate(antennas):\n",
    "\n",
    "    antenna_type = list(antennas.keys())[idx]\n",
    "    antenna_locs = list(antennas.values())[idx]\n",
    "    \n",
    "    if len(antenna_locs) > 1:\n",
    "    \n",
    "        for i,j in combinations(antenna_locs, 2):\n",
    "            antinodes = get_antinodes(i,j, city.shape)\n",
    "            for antinode in antinodes:\n",
    "                antinodes_all.add(antinode)\n",
    "                \n",
    "answer = len(antinodes_all)\n",
    "print(f\"Found total of {answer} antinodes\")"
   ]
  },
  {
   "cell_type": "markdown",
   "id": "262ddd66-b563-424f-bdad-28be985be51f",
   "metadata": {},
   "source": [
    "### Part Two - Calculate unique locations within the bounds of the map that contain an antinode (including the effects of resonant harmonics)"
   ]
  },
  {
   "cell_type": "markdown",
   "id": "741a6a18-d122-4a68-8d54-2ae4abd9d49a",
   "metadata": {},
   "source": [
    "#### TEST FILE"
   ]
  },
  {
   "cell_type": "code",
   "execution_count": 7,
   "id": "f47d25e7-ed69-4292-abf0-5c1ab1ca4e7d",
   "metadata": {},
   "outputs": [
    {
     "name": "stdout",
     "output_type": "stream",
     "text": [
      "[['.' '.' '.' '.' '.' '.' '.' '.' '.' '.' '.' '.']\n",
      " ['.' '.' '.' '.' '.' '.' '.' '.' '0' '.' '.' '.']\n",
      " ['.' '.' '.' '.' '.' '0' '.' '.' '.' '.' '.' '.']\n",
      " ['.' '.' '.' '.' '.' '.' '.' '0' '.' '.' '.' '.']\n",
      " ['.' '.' '.' '.' '0' '.' '.' '.' '.' '.' '.' '.']\n",
      " ['.' '.' '.' '.' '.' '.' 'A' '.' '.' '.' '.' '.']\n",
      " ['.' '.' '.' '.' '.' '.' '.' '.' '.' '.' '.' '.']\n",
      " ['.' '.' '.' '.' '.' '.' '.' '.' '.' '.' '.' '.']\n",
      " ['.' '.' '.' '.' '.' '.' '.' '.' 'A' '.' '.' '.']\n",
      " ['.' '.' '.' '.' '.' '.' '.' '.' '.' 'A' '.' '.']\n",
      " ['.' '.' '.' '.' '.' '.' '.' '.' '.' '.' '.' '.']\n",
      " ['.' '.' '.' '.' '.' '.' '.' '.' '.' '.' '.' '.']] \n",
      "\n",
      "[(1, 8), (2, 5), (3, 7), (4, 4)] 0 \n",
      "\n",
      "[(5, 6), (8, 8), (9, 9)] A \n",
      "\n",
      "Found total of 34 antinodes:\n",
      "[(0, 0), (0, 1), (0, 6), (0, 11), (1, 1), (1, 3), (1, 8), (2, 2), (2, 4), (2, 5), (2, 10), (3, 2), (3, 3), (3, 7), (4, 4), (4, 9), (5, 1), (5, 5), (5, 6), (5, 11), (6, 3), (6, 6), (7, 0), (7, 5), (7, 7), (8, 2), (8, 8), (9, 4), (9, 9), (10, 1), (10, 10), (11, 3), (11, 10), (11, 11)]\n",
      "\n",
      "[['X' 'X' '.' '.' '.' '.' 'X' '.' '.' '.' '.' 'X']\n",
      " ['.' 'X' '.' 'X' '.' '.' '.' '.' 'X' '.' '.' '.']\n",
      " ['.' '.' 'X' '.' 'X' 'X' '.' '.' '.' '.' 'X' '.']\n",
      " ['.' '.' 'X' 'X' '.' '.' '.' 'X' '.' '.' '.' '.']\n",
      " ['.' '.' '.' '.' 'X' '.' '.' '.' '.' 'X' '.' '.']\n",
      " ['.' 'X' '.' '.' '.' 'X' 'X' '.' '.' '.' '.' 'X']\n",
      " ['.' '.' '.' 'X' '.' '.' 'X' '.' '.' '.' '.' '.']\n",
      " ['X' '.' '.' '.' '.' 'X' '.' 'X' '.' '.' '.' '.']\n",
      " ['.' '.' 'X' '.' '.' '.' '.' '.' 'X' '.' '.' '.']\n",
      " ['.' '.' '.' '.' 'X' '.' '.' '.' '.' 'X' '.' '.']\n",
      " ['.' 'X' '.' '.' '.' '.' '.' '.' '.' '.' 'X' '.']\n",
      " ['.' '.' '.' 'X' '.' '.' '.' '.' '.' '.' 'X' 'X']]\n"
     ]
    }
   ],
   "source": [
    "city = parse_input(\"test.txt\")\n",
    "print(city, \"\\n\")\n",
    "\n",
    "antennas = {}\n",
    "\n",
    "for r, row in enumerate(city):\n",
    "    for c, col in enumerate(row):\n",
    "        current = city[r][c]\n",
    "\n",
    "        if current == \".\":\n",
    "            pass        \n",
    "        elif current in antennas:\n",
    "            antennas[current].append((r,c))\n",
    "        else:\n",
    "            antennas[current] = [(r,c)]\n",
    "\n",
    "rows, columns = city.shape\n",
    "antinodes_all = set()\n",
    "\n",
    "for idx, antenna in enumerate(antennas):\n",
    "\n",
    "    antenna_type = list(antennas.keys())[idx]\n",
    "    antenna_locs = list(antennas.values())[idx]\n",
    "    print(antenna_locs, antenna_type, \"\\n\")\n",
    "    \n",
    "    if len(antenna_locs) > 1:\n",
    "    \n",
    "        for i,j in combinations(antenna_locs, 2):\n",
    "            antinodes = get_antinodes_resonance(i,j, city.shape)\n",
    "            for antinode in antinodes:\n",
    "                antinodes_all.add(antinode)\n",
    "                \n",
    "answer = len(antinodes_all)\n",
    "print(f\"Found total of {answer} antinodes:\\n{sorted(antinodes_all)}\\n\")\n",
    "\n",
    "for x, y in antinodes_all:\n",
    "    city[x, y] = \"X\"\n",
    "print(city)"
   ]
  },
  {
   "cell_type": "markdown",
   "id": "d5c88c77-9891-4b73-8021-9b356585843d",
   "metadata": {},
   "source": [
    "#### MY FILE"
   ]
  },
  {
   "cell_type": "code",
   "execution_count": 8,
   "id": "975737fd-dc49-461a-99bb-5b536009b0e0",
   "metadata": {},
   "outputs": [
    {
     "name": "stdout",
     "output_type": "stream",
     "text": [
      "Found total of 962 antinodes\n"
     ]
    }
   ],
   "source": [
    "city = parse_input(\"8-input.txt\")\n",
    "\n",
    "antennas = {}\n",
    "\n",
    "for r, row in enumerate(city):\n",
    "    for c, col in enumerate(row):\n",
    "        current = city[r][c]\n",
    "\n",
    "        if current == \".\":\n",
    "            pass        \n",
    "        elif current in antennas:\n",
    "            antennas[current].append((r,c))\n",
    "        else:\n",
    "            antennas[current] = [(r,c)]\n",
    "\n",
    "rows, columns = city.shape\n",
    "antinodes_all = set()\n",
    "\n",
    "for idx, antenna in enumerate(antennas):\n",
    "\n",
    "    antenna_type = list(antennas.keys())[idx]\n",
    "    antenna_locs = list(antennas.values())[idx]\n",
    "    \n",
    "    if len(antenna_locs) > 1:\n",
    "    \n",
    "        for i,j in combinations(antenna_locs, 2):\n",
    "            antinodes = get_antinodes_resonance(i,j, city.shape)\n",
    "            for antinode in antinodes:\n",
    "                antinodes_all.add(antinode)\n",
    "                \n",
    "answer = len(antinodes_all)\n",
    "print(f\"Found total of {answer} antinodes\")"
   ]
  }
 ],
 "metadata": {
  "kernelspec": {
   "display_name": "Python 3 (ipykernel)",
   "language": "python",
   "name": "python3"
  },
  "language_info": {
   "codemirror_mode": {
    "name": "ipython",
    "version": 3
   },
   "file_extension": ".py",
   "mimetype": "text/x-python",
   "name": "python",
   "nbconvert_exporter": "python",
   "pygments_lexer": "ipython3",
   "version": "3.8.18"
  }
 },
 "nbformat": 4,
 "nbformat_minor": 5
}
