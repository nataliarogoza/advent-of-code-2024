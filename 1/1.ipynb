{
 "cells": [
  {
   "cell_type": "markdown",
   "id": "1bc46eca-7d41-4b83-a2a4-813b1f5a8fb8",
   "metadata": {},
   "source": [
    "# Advent of Code 2024"
   ]
  },
  {
   "cell_type": "markdown",
   "id": "8892cc5f-97e8-4cea-ac66-9252dc2afd45",
   "metadata": {},
   "source": [
    "## Day 1"
   ]
  },
  {
   "cell_type": "markdown",
   "id": "ce98874b-93fc-4285-9836-8991bc33c890",
   "metadata": {},
   "source": [
    "### Part One - Calculate total distance"
   ]
  },
  {
   "cell_type": "code",
   "execution_count": 1,
   "id": "e3908da2-1909-4cfb-a03d-9dea2a476d22",
   "metadata": {},
   "outputs": [
    {
     "name": "stdout",
     "output_type": "stream",
     "text": [
      "14832   78161\n",
      "\n",
      "['14832', '78161']\n"
     ]
    }
   ],
   "source": [
    "# Check if splitting data from .txt file works\n",
    "with open(\"1-input.txt\", \"r\") as file:\n",
    "    for line in file:\n",
    "        print(line) \n",
    "        print(line.strip().split(\"   \"))\n",
    "        break # for first line only"
   ]
  },
  {
   "cell_type": "code",
   "execution_count": 2,
   "id": "63eb8787-f658-4755-a0a9-83b972423d34",
   "metadata": {},
   "outputs": [],
   "source": [
    "# Upload data from .txt file to lists\n",
    "left, right = [], []\n",
    "with open(\"1-input.txt\", \"r\") as file:\n",
    "    for line in file:\n",
    "        l, r = line.strip().split(\"   \")\n",
    "        l, r = int(l), int(r)\n",
    "        left.append(l)\n",
    "        right.append(r)"
   ]
  },
  {
   "cell_type": "code",
   "execution_count": 3,
   "id": "dbb011d4-af65-4208-84b8-63dc1d350ef4",
   "metadata": {},
   "outputs": [
    {
     "data": {
      "text/plain": [
       "True"
      ]
     },
     "execution_count": 3,
     "metadata": {},
     "output_type": "execute_result"
    }
   ],
   "source": [
    "# Check if they're of the same size\n",
    "len(left) == len(right)"
   ]
  },
  {
   "cell_type": "code",
   "execution_count": 4,
   "id": "6424f553-fd90-4852-9370-0268d214426b",
   "metadata": {},
   "outputs": [
    {
     "name": "stdout",
     "output_type": "stream",
     "text": [
      "True\n",
      "True\n"
     ]
    }
   ],
   "source": [
    "# Check if sorted() function changes list size (for example if there are any duplicates) - it does not\n",
    "print(len(sorted(left)) == len(left))\n",
    "print(len(sorted(right)) == len(right))"
   ]
  },
  {
   "cell_type": "code",
   "execution_count": 5,
   "id": "8fdf06de-b89f-4921-850c-3b4541649bb0",
   "metadata": {},
   "outputs": [
    {
     "name": "stdout",
     "output_type": "stream",
     "text": [
      "[10184, 10205, 10307, 10311, 10426]\n",
      "[10102, 10261, 10690, 10690, 10690]\n"
     ]
    }
   ],
   "source": [
    "# Peek first elements from both lists\n",
    "print(sorted(left)[0:5])\n",
    "print(sorted(right)[0:5])"
   ]
  },
  {
   "cell_type": "code",
   "execution_count": 6,
   "id": "2202116d-6500-4196-ba3c-48718ac3dbc7",
   "metadata": {},
   "outputs": [],
   "source": [
    "# From now on, we'll work on sorted lists\n",
    "left_sorted = sorted(left)\n",
    "right_sorted = sorted(right)"
   ]
  },
  {
   "cell_type": "code",
   "execution_count": 7,
   "id": "26101b22-d98a-45cc-93cc-40b793dff84f",
   "metadata": {},
   "outputs": [
    {
     "name": "stdout",
     "output_type": "stream",
     "text": [
      "1938424\n"
     ]
    }
   ],
   "source": [
    "# Calculate the total distance \n",
    "total_dist = 0\n",
    "\n",
    "for i in range(len(left)):\n",
    "    total_dist += abs(left_sorted[i] - right_sorted[i]) \n",
    "\n",
    "print(total_dist)"
   ]
  },
  {
   "cell_type": "markdown",
   "id": "b61d79af-48d9-4359-bd20-6aa94e1dc1b2",
   "metadata": {},
   "source": [
    "### Part Two - Calculate similarity score"
   ]
  },
  {
   "cell_type": "code",
   "execution_count": 8,
   "id": "ea414779-615f-44c3-b9a3-b267bde9c8c5",
   "metadata": {},
   "outputs": [
    {
     "name": "stdout",
     "output_type": "stream",
     "text": [
      "22014209\n"
     ]
    }
   ],
   "source": [
    "sim_score = 0\n",
    "known_scores = {} # will keep calculated scores for duplicates - no need to calculate them each time\n",
    "\n",
    "for el in left:\n",
    "    if el not in known_scores:\n",
    "        freq_in_right = right.count(el)\n",
    "        known_scores[el] = freq_in_right\n",
    "        sim_score += el * freq_in_right\n",
    "    else:\n",
    "        sim_score += el * known_scores[el]\n",
    "        \n",
    "print(sim_score)"
   ]
  }
 ],
 "metadata": {
  "kernelspec": {
   "display_name": "Python 3 (ipykernel)",
   "language": "python",
   "name": "python3"
  },
  "language_info": {
   "codemirror_mode": {
    "name": "ipython",
    "version": 3
   },
   "file_extension": ".py",
   "mimetype": "text/x-python",
   "name": "python",
   "nbconvert_exporter": "python",
   "pygments_lexer": "ipython3",
   "version": "3.8.18"
  }
 },
 "nbformat": 4,
 "nbformat_minor": 5
}
