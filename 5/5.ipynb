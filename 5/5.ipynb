{
 "cells": [
  {
   "cell_type": "markdown",
   "id": "1bc46eca-7d41-4b83-a2a4-813b1f5a8fb8",
   "metadata": {},
   "source": [
    "# Advent of Code 2024"
   ]
  },
  {
   "cell_type": "markdown",
   "id": "8892cc5f-97e8-4cea-ac66-9252dc2afd45",
   "metadata": {},
   "source": [
    "## Day 4"
   ]
  },
  {
   "cell_type": "markdown",
   "id": "ce98874b-93fc-4285-9836-8991bc33c890",
   "metadata": {},
   "source": [
    "### Part One - Sum the middle number from correctly-ordered updates only"
   ]
  },
  {
   "cell_type": "code",
   "execution_count": 1,
   "id": "7256cf9d-2283-4c03-8d37-4506574c834e",
   "metadata": {},
   "outputs": [],
   "source": [
    "def parse_input(filename):\n",
    "    rules = []\n",
    "    updates = []\n",
    "    \n",
    "    with open(filename, \"r\") as file:\n",
    "        for line in file:\n",
    "            if \"|\" in line:\n",
    "                l,r = line.strip().split(\"|\")\n",
    "                rules.append((int(l),int(r)))\n",
    "            elif line.strip(): # ignore line with only whitespace\n",
    "                nums = line.strip().split(\",\")\n",
    "                nums = [int(i) for i in nums]\n",
    "                updates.append(nums)\n",
    "    return rules, updates"
   ]
  },
  {
   "cell_type": "code",
   "execution_count": 2,
   "id": "04bfbd94-3bbb-49d0-96cc-b71d4ab03d96",
   "metadata": {},
   "outputs": [],
   "source": [
    "def find_preceeding(number, rules):\n",
    "    preceeding = []\n",
    "    for i in rules:\n",
    "       if i[1] == number:\n",
    "           preceeding.append(i[0])\n",
    "    if len(preceeding) > 0:\n",
    "        return preceeding\n",
    "    else:\n",
    "        return []"
   ]
  },
  {
   "cell_type": "code",
   "execution_count": 3,
   "id": "c83887f5-bd88-4d9c-b904-5010e4d4d934",
   "metadata": {},
   "outputs": [],
   "source": [
    "def check_if_correct(number, preceeding, update):\n",
    "    # check if numbers preceeding number of interest are in analyzed update\n",
    "    preceeding_in_update = [num for num in update if num in preceeding]\n",
    "            \n",
    "    # get index of analyzed number\n",
    "    for i in range(len(update)):\n",
    "        if update[i] == number:\n",
    "            analyzed_idx = i\n",
    "            break\n",
    "\n",
    "    # see if other numbers are on correct positions \n",
    "    for n in range(analyzed_idx + 1, len(update)):\n",
    "        if update[n] in preceeding_in_update:\n",
    "            return False\n",
    "\n",
    "    return True"
   ]
  },
  {
   "cell_type": "code",
   "execution_count": 4,
   "id": "cfec7d44-2a67-42ac-8e4c-b04de736d780",
   "metadata": {},
   "outputs": [],
   "source": [
    "def calculate_for_update(update, rules):\n",
    "    for num in update:\n",
    "        preceeding = find_preceeding(num, rules)\n",
    "        is_number_pos_correct = check_if_correct(num, preceeding, update)\n",
    "        if is_number_pos_correct == False:\n",
    "            return False\n",
    "    return True"
   ]
  },
  {
   "cell_type": "markdown",
   "id": "f5feb87b-6c53-42aa-9217-6a59bb864faa",
   "metadata": {},
   "source": [
    "#### TEST SAMPLE"
   ]
  },
  {
   "cell_type": "code",
   "execution_count": 5,
   "id": "79c4271f-28c4-4165-a327-71ad9ed33133",
   "metadata": {},
   "outputs": [
    {
     "name": "stdout",
     "output_type": "stream",
     "text": [
      "Checking update 1:\n",
      "This one's good\n",
      "Adding 61 to overall sum\n",
      "\n",
      "Checking update 2:\n",
      "This one's good\n",
      "Adding 53 to overall sum\n",
      "\n",
      "Checking update 3:\n",
      "This one's good\n",
      "Adding 29 to overall sum\n",
      "\n",
      "Checking update 4:\n",
      "This one's bad!\n",
      "\n",
      "Checking update 5:\n",
      "This one's bad!\n",
      "\n",
      "Checking update 6:\n",
      "This one's bad!\n",
      "\n"
     ]
    },
    {
     "data": {
      "text/plain": [
       "143"
      ]
     },
     "execution_count": 5,
     "metadata": {},
     "output_type": "execute_result"
    }
   ],
   "source": [
    "rules, updates = parse_input(\"test.txt\")\n",
    "sum_of_middles_of_correct = 0\n",
    "for i, update in enumerate(updates):\n",
    "    print(f\"Checking update {i+1}:\")\n",
    "    is_update_correct = calculate_for_update(update, rules)\n",
    "    if is_update_correct == True:\n",
    "        print(\"This one's good\")\n",
    "        idx = len(update)//2\n",
    "        sum_of_middles_of_correct += update[idx]\n",
    "        print(f\"Adding {update[idx]} to overall sum\\n\")\n",
    "    else:\n",
    "        print(\"This one's bad!\\n\")\n",
    "sum_of_middles_of_correct"
   ]
  },
  {
   "cell_type": "markdown",
   "id": "39162c33-3660-41de-bced-82238e690c74",
   "metadata": {},
   "source": [
    "#### MY FILE "
   ]
  },
  {
   "cell_type": "code",
   "execution_count": 6,
   "id": "668dc367-46c9-4e7d-8210-cf8c9efa0a2e",
   "metadata": {},
   "outputs": [
    {
     "data": {
      "text/plain": [
       "5964"
      ]
     },
     "execution_count": 6,
     "metadata": {},
     "output_type": "execute_result"
    }
   ],
   "source": [
    "rules = []\n",
    "updates = []\n",
    "with open(\"5-input.txt\", \"r\") as file:\n",
    "    for line in file:\n",
    "        if \"|\" in line:\n",
    "            l,r = line.strip().split(\"|\")\n",
    "            rules.append((int(l),int(r)))\n",
    "        elif line.strip(): # ignore line with only whitespace\n",
    "            nums = line.strip().split(\",\")\n",
    "            nums = [int(i) for i in nums]\n",
    "            updates.append(nums)\n",
    "\n",
    "sum_of_middles_of_correct = 0\n",
    "for i, update in enumerate(updates):\n",
    "    #print(f\"Checking update {i+1}:\")\n",
    "    is_update_correct = calculate_for_update(update, rules)\n",
    "    if is_update_correct == True:\n",
    "        #print(\"This one's good\")\n",
    "        idx = len(update)//2\n",
    "        sum_of_middles_of_correct += update[idx]\n",
    "        #print(f\"Adding {update[idx]} to overall sum\\n\")\n",
    "    else:\n",
    "        #print(\"This one's bad!\\n\")\n",
    "        pass\n",
    "sum_of_middles_of_correct"
   ]
  },
  {
   "cell_type": "markdown",
   "id": "cbe93168-8550-4de9-91bc-27d88c9205a9",
   "metadata": {},
   "source": [
    "### Part Two - Sum the middle number from corrected updates"
   ]
  },
  {
   "cell_type": "code",
   "execution_count": 7,
   "id": "96be8dfd-16d6-4104-a629-cde8a89d8df3",
   "metadata": {},
   "outputs": [],
   "source": [
    "def reorder(update, rules):\n",
    "    # initializing dictionaries to track precedence and their counts\n",
    "    precedence_count = {} # how many precedents each number has\n",
    "    precedents = {} # which numbers must come before which numbers\n",
    "    \n",
    "    # initial setup\n",
    "    for num in update:\n",
    "        precedence_count[num] = 0 # initially no number has precedents\n",
    "        precedents[num] = [] # initially no numbers are precedents\n",
    "    \n",
    "    # populate precedence count and precedents based on the rules\n",
    "    for x, y in rules:\n",
    "        if x in precedence_count and y in precedence_count:\n",
    "            precedents[x].append(y) # X must come before Y\n",
    "            precedence_count[y] += 1 # increase the precedence count for Y\n",
    "\n",
    "    ordered_update = []  \n",
    "    \n",
    "    # ordering numbers based on rules until all numbers are ordered\n",
    "    while len(ordered_update) < len(update):\n",
    "        for num in update:\n",
    "            # if number has no remaining precedents, add it to the ordered list\n",
    "            if precedence_count[num] == 0 and num not in ordered_update:\n",
    "                ordered_update.append(num)\n",
    "                \n",
    "                # after adding the number decrease the precedence count of numbers that must come after it\n",
    "                for dependent in precedents[num]:\n",
    "                    precedence_count[dependent] -= 1\n",
    "    \n",
    "    return ordered_update"
   ]
  },
  {
   "cell_type": "markdown",
   "id": "d7eebcc1-34df-45c5-a7f8-55f0f6cbcb01",
   "metadata": {},
   "source": [
    "#### TEST SAMPLE"
   ]
  },
  {
   "cell_type": "code",
   "execution_count": 8,
   "id": "697115fa-c3ea-4d9c-bde6-0de04996a0a5",
   "metadata": {},
   "outputs": [
    {
     "name": "stdout",
     "output_type": "stream",
     "text": [
      "Checking update 1: [75, 47, 61, 53, 29]\n",
      "This update is correct.\n",
      "\n",
      "Checking update 2: [97, 61, 53, 29, 13]\n",
      "This update is correct.\n",
      "\n",
      "Checking update 3: [75, 29, 13]\n",
      "This update is correct.\n",
      "\n",
      "Checking update 4: [75, 97, 47, 61, 53]\n",
      "This one's bad! Need to reorder.\n",
      "Adding 47 to overall sum\n",
      "\n",
      "Checking update 5: [61, 13, 29]\n",
      "This one's bad! Need to reorder.\n",
      "Adding 29 to overall sum\n",
      "\n",
      "Checking update 6: [97, 13, 75, 29, 47]\n",
      "This one's bad! Need to reorder.\n",
      "Adding 47 to overall sum\n",
      "\n"
     ]
    },
    {
     "data": {
      "text/plain": [
       "123"
      ]
     },
     "execution_count": 8,
     "metadata": {},
     "output_type": "execute_result"
    }
   ],
   "source": [
    "rules, updates = parse_input(\"test.txt\")\n",
    "sum_of_middles_of_corrected = 0\n",
    "\n",
    "for i, update in enumerate(updates):\n",
    "    print(f\"Checking update {i + 1}: {update}\")\n",
    "    is_update_correct = calculate_for_update(update, rules)\n",
    "    \n",
    "    if not is_update_correct:\n",
    "        print(\"This one's bad! Need to reorder.\")\n",
    "        corrected_update = reorder(update, rules) # Reorder the update\n",
    "\n",
    "        middle_idx = len(corrected_update) // 2\n",
    "        sum_of_middles_of_corrected += corrected_update[middle_idx] \n",
    "        print(f\"Adding {corrected_update[middle_idx]} to overall sum\\n\")\n",
    "\n",
    "    else:\n",
    "        print(\"This update is correct.\\n\")\n",
    "\n",
    "sum_of_middles_of_corrected"
   ]
  },
  {
   "cell_type": "markdown",
   "id": "c5c01612-3764-408d-b009-ab3fe6ae37c7",
   "metadata": {},
   "source": [
    "#### MY FILE"
   ]
  },
  {
   "cell_type": "code",
   "execution_count": 9,
   "id": "a3a08741-142c-4d4c-9c53-eae8b53a7b51",
   "metadata": {},
   "outputs": [
    {
     "data": {
      "text/plain": [
       "4719"
      ]
     },
     "execution_count": 9,
     "metadata": {},
     "output_type": "execute_result"
    }
   ],
   "source": [
    "rules, updates = parse_input(\"5-input.txt\")\n",
    "sum_of_middles_of_corrected = 0\n",
    "\n",
    "for i, update in enumerate(updates):\n",
    "    is_update_correct = calculate_for_update(update, rules)\n",
    "    \n",
    "    if not is_update_correct:\n",
    "        corrected_update = reorder(update, rules) # Reorder the update\n",
    "\n",
    "        middle_idx = len(corrected_update) // 2\n",
    "        sum_of_middles_of_corrected += corrected_update[middle_idx] \n",
    "\n",
    "sum_of_middles_of_corrected"
   ]
  }
 ],
 "metadata": {
  "kernelspec": {
   "display_name": "Python 3 (ipykernel)",
   "language": "python",
   "name": "python3"
  },
  "language_info": {
   "codemirror_mode": {
    "name": "ipython",
    "version": 3
   },
   "file_extension": ".py",
   "mimetype": "text/x-python",
   "name": "python",
   "nbconvert_exporter": "python",
   "pygments_lexer": "ipython3",
   "version": "3.8.18"
  }
 },
 "nbformat": 4,
 "nbformat_minor": 5
}
