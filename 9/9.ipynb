{
 "cells": [
  {
   "cell_type": "markdown",
   "id": "1bc46eca-7d41-4b83-a2a4-813b1f5a8fb8",
   "metadata": {},
   "source": [
    "# Advent of Code 2024"
   ]
  },
  {
   "cell_type": "markdown",
   "id": "8892cc5f-97e8-4cea-ac66-9252dc2afd45",
   "metadata": {},
   "source": [
    "## Day 9"
   ]
  },
  {
   "cell_type": "markdown",
   "id": "ce98874b-93fc-4285-9836-8991bc33c890",
   "metadata": {},
   "source": [
    "### Part One - Calculate filesystem checksum"
   ]
  },
  {
   "cell_type": "code",
   "execution_count": 1,
   "id": "7ee24455-cf49-4687-9091-4b47a3cac188",
   "metadata": {},
   "outputs": [],
   "source": [
    "def move_by_step(block, empty_indices):\n",
    "    \n",
    "    # find the last field that is not-empty\n",
    "    for idx_end in range(len(block) - 1, -1, -1): # (starting index, stopping value, step) -> reversed \n",
    "        if block[idx_end] is not None:\n",
    "            char_end = block[idx_end] # save character for moving\n",
    "            block[idx_end] = None  # empty this position\n",
    "            break\n",
    "    else:\n",
    "        return block  # there's nothing to move\n",
    "\n",
    "    first_empty_idx = empty_indices.pop(0) # get index of the first empty element and remove the element from empty_indices\n",
    "    block[first_empty_idx] = char_end # move the character to the first empty position\n",
    "    return block"
   ]
  },
  {
   "cell_type": "markdown",
   "id": "6d976d46-70df-4e63-a7de-987900c8ea92",
   "metadata": {},
   "source": [
    "#### TEST FILE"
   ]
  },
  {
   "cell_type": "code",
   "execution_count": 2,
   "id": "b480787d-6d9e-4d8e-bf30-006e23b0f04e",
   "metadata": {},
   "outputs": [
    {
     "name": "stdout",
     "output_type": "stream",
     "text": [
      "checksum = 1928\n"
     ]
    }
   ],
   "source": [
    "line = \"2333133121414131402\"\n",
    "\n",
    "# convert input to a block (list of integers with None for empty spaces/dots)\n",
    "block = []\n",
    "id_number = 0\n",
    "for idx, char in enumerate(line):\n",
    "    if idx % 2 == 0:\n",
    "        block.extend([id_number] * int(char))\n",
    "        id_number += 1\n",
    "    else:\n",
    "        block.extend([None] * int(char))\n",
    "\n",
    "# precompute empty indices (positions in our block where None (dots) are located = target position for moving)\n",
    "empty_indices = [i for i, val in enumerate(block) if val is None]\n",
    "\n",
    "# rearrange the blocks\n",
    "size = len(block)\n",
    "dots = len(empty_indices)\n",
    "\n",
    "while len(empty_indices) > 0 and empty_indices[0] < size - dots:  # repeat until there are empty elements to fill left and position of the smallest empty element is within bounds of positions to fill\n",
    "    block = move_by_step(block, empty_indices)\n",
    "\n",
    "# calculate the filesystem checksum\n",
    "checksum = sum(idx * val for idx, val in enumerate(block[:size-dots]) if val is not None)\n",
    "print(f\"checksum = {checksum}\")"
   ]
  },
  {
   "cell_type": "markdown",
   "id": "078e06a8-2e9f-44bb-9449-e450d8f863ca",
   "metadata": {},
   "source": [
    "#### MY FILE"
   ]
  },
  {
   "cell_type": "code",
   "execution_count": 3,
   "id": "416aac21-6527-4df7-b97e-9aa4eb71a1eb",
   "metadata": {},
   "outputs": [
    {
     "name": "stdout",
     "output_type": "stream",
     "text": [
      "checksum = 6320029754031\n"
     ]
    }
   ],
   "source": [
    "with open(\"9-input.txt\", \"r\") as file:\n",
    "    line = file.readline().strip()\n",
    "\n",
    "# convert input to a block (list of integers with None for empty spaces/dots)\n",
    "block = []\n",
    "id_number = 0\n",
    "for idx, char in enumerate(line):\n",
    "    if idx % 2 == 0:\n",
    "        block.extend([id_number] * int(char))\n",
    "        id_number += 1\n",
    "    else:\n",
    "        block.extend([None] * int(char))\n",
    "\n",
    "# precompute empty indices (positions in our block where None (dots) are located = target position for moving)\n",
    "empty_indices = [i for i, val in enumerate(block) if val is None]\n",
    "\n",
    "# rearrange the blocks\n",
    "size = len(block)\n",
    "dots = len(empty_indices)\n",
    "\n",
    "while len(empty_indices) > 0 and empty_indices[0] < size - dots:  # repeat until there are empty elements to fill left and position of the smallest empty element is within bounds of positions to fill\n",
    "    block = move_by_step(block, empty_indices)\n",
    "\n",
    "# calculate the filesystem checksum\n",
    "checksum = sum(idx * val for idx, val in enumerate(block[:size-dots]) if val is not None)\n",
    "print(f\"checksum = {checksum}\")"
   ]
  },
  {
   "cell_type": "markdown",
   "id": "262ddd66-b563-424f-bdad-28be985be51f",
   "metadata": {},
   "source": [
    "### Part Two - Calculate filesystem checksum (moving whole files)"
   ]
  },
  {
   "cell_type": "markdown",
   "id": "16f3cd89-c152-4f0a-907c-020845b107b8",
   "metadata": {},
   "source": [
    "got help from: https://www.youtube.com/watch?v=5k8O1EloI5M&t=613s"
   ]
  },
  {
   "cell_type": "markdown",
   "id": "741a6a18-d122-4a68-8d54-2ae4abd9d49a",
   "metadata": {},
   "source": [
    "#### TEST FILE"
   ]
  },
  {
   "cell_type": "code",
   "execution_count": 4,
   "id": "6df9b15a-5b90-4540-b929-e37dbcea573e",
   "metadata": {},
   "outputs": [
    {
     "name": "stdout",
     "output_type": "stream",
     "text": [
      "checksum = 2858\n"
     ]
    }
   ],
   "source": [
    "line = \"2333133121414131402\"\n",
    "\n",
    "# convert input to a block (list of integers with None for empty spaces/dots)\n",
    "block = []\n",
    "id_number = 0\n",
    "for idx, char in enumerate(line):\n",
    "    if idx % 2 == 0:\n",
    "        block.extend([id_number] * int(char))\n",
    "        id_number += 1\n",
    "    else:\n",
    "        block.extend([None] * int(char))\n",
    "\n",
    "# precompute file starting positions and their lengths\n",
    "is_file = True\n",
    "files = {}  # number: (starting position of file, length of file)\n",
    "spaces = [] # \n",
    "curr_position = 0\n",
    "\n",
    "for i, size in enumerate(line):\n",
    "    size = int(size)  \n",
    "    if is_file:\n",
    "        files[i // 2] = (curr_position, size)  \n",
    "        curr_position += size  # move the position by the size of the file\n",
    "    else:\n",
    "        spaces.append((curr_position, size))\n",
    "        curr_position += size  # move the position by the size of empty space\n",
    "    is_file = not is_file  # change modes between \"file\" and \"empty space\"\n",
    "\n",
    "# search for files from the end\n",
    "for id in reversed(files):\n",
    "    pos, file_size = files[id]\n",
    "    \n",
    "    # go through accessible spaces and move files if possible \n",
    "    space_id = 0\n",
    "    while space_id < len(spaces):\n",
    "        space_loc, space_size = spaces[space_id]\n",
    "        if space_loc > pos: # asserting that file position to move is currently after the space position\n",
    "            break\n",
    "        if space_size == file_size:\n",
    "            files[id] = (space_loc, space_size)\n",
    "            spaces.pop(space_id)\n",
    "            break\n",
    "        if space_size > file_size:\n",
    "            files[id] = (space_loc, file_size)\n",
    "            spaces[space_id] = (space_loc + file_size, space_size - file_size)\n",
    "            break\n",
    "        space_id += 1\n",
    "\n",
    "# calculate the filesystem checksum\n",
    "checksum = 0\n",
    "for id, (loc, size) in files.items():\n",
    "    for i in range(loc, loc+size):\n",
    "        checksum += id * i\n",
    "print(f\"checksum = {checksum}\")"
   ]
  },
  {
   "cell_type": "markdown",
   "id": "d5c88c77-9891-4b73-8021-9b356585843d",
   "metadata": {},
   "source": [
    "#### MY FILE"
   ]
  },
  {
   "cell_type": "code",
   "execution_count": 5,
   "id": "4e08d121-4637-41ad-9f97-cb4821d19862",
   "metadata": {},
   "outputs": [
    {
     "name": "stdout",
     "output_type": "stream",
     "text": [
      "checksum = 6347435485773\n"
     ]
    }
   ],
   "source": [
    "with open(\"9-input.txt\", \"r\") as file:\n",
    "    line = file.readline().strip()\n",
    "\n",
    "# convert input to a block (list of integers with None for empty spaces/dots)\n",
    "block = []\n",
    "id_number = 0\n",
    "for idx, char in enumerate(line):\n",
    "    if idx % 2 == 0:\n",
    "        block.extend([id_number] * int(char))\n",
    "        id_number += 1\n",
    "    else:\n",
    "        block.extend([None] * int(char))\n",
    "\n",
    "# precompute file starting positions and their lengths\n",
    "is_file = True\n",
    "files = {}  # number: (starting position of file, length of file)\n",
    "spaces = [] # \n",
    "curr_position = 0\n",
    "\n",
    "for i, size in enumerate(line):\n",
    "    size = int(size)  \n",
    "    if is_file:\n",
    "        files[i // 2] = (curr_position, size)  \n",
    "        curr_position += size  # move the position by the size of the file\n",
    "    else:\n",
    "        spaces.append((curr_position, size))\n",
    "        curr_position += size  # move the position by the size of empty space\n",
    "    is_file = not is_file  # change modes between \"file\" and \"empty space\"\n",
    "\n",
    "# search for files from the end\n",
    "for id in reversed(files):\n",
    "    pos, file_size = files[id]\n",
    "    \n",
    "    # go through accessible spaces and move files if possible \n",
    "    space_id = 0\n",
    "    while space_id < len(spaces):\n",
    "        space_loc, space_size = spaces[space_id]\n",
    "        if space_loc > pos: # asserting that file position to move is currently after the space position\n",
    "            break\n",
    "        if space_size == file_size:\n",
    "            files[id] = (space_loc, space_size)\n",
    "            spaces.pop(space_id)\n",
    "            break\n",
    "        if space_size > file_size:\n",
    "            files[id] = (space_loc, file_size)\n",
    "            spaces[space_id] = (space_loc + file_size, space_size - file_size)\n",
    "            break\n",
    "        space_id += 1\n",
    "\n",
    "# calculate the filesystem checksum\n",
    "checksum = 0\n",
    "for id, (loc, size) in files.items():\n",
    "    for i in range(loc, loc+size):\n",
    "        checksum += id * i\n",
    "print(f\"checksum = {checksum}\")"
   ]
  }
 ],
 "metadata": {
  "kernelspec": {
   "display_name": "Python 3 (ipykernel)",
   "language": "python",
   "name": "python3"
  },
  "language_info": {
   "codemirror_mode": {
    "name": "ipython",
    "version": 3
   },
   "file_extension": ".py",
   "mimetype": "text/x-python",
   "name": "python",
   "nbconvert_exporter": "python",
   "pygments_lexer": "ipython3",
   "version": "3.8.18"
  }
 },
 "nbformat": 4,
 "nbformat_minor": 5
}
