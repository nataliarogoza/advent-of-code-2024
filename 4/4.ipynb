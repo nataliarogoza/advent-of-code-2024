{
 "cells": [
  {
   "cell_type": "markdown",
   "id": "1bc46eca-7d41-4b83-a2a4-813b1f5a8fb8",
   "metadata": {},
   "source": [
    "# Advent of Code 2024"
   ]
  },
  {
   "cell_type": "markdown",
   "id": "8892cc5f-97e8-4cea-ac66-9252dc2afd45",
   "metadata": {},
   "source": [
    "## Day 4"
   ]
  },
  {
   "cell_type": "markdown",
   "id": "ce98874b-93fc-4285-9836-8991bc33c890",
   "metadata": {},
   "source": [
    "### Part One - Find all XMAS"
   ]
  },
  {
   "cell_type": "code",
   "execution_count": 1,
   "id": "dbe10166-cdec-4e74-8f50-5de09616f422",
   "metadata": {},
   "outputs": [
    {
     "name": "stdout",
     "output_type": "stream",
     "text": [
      "Text as a matrix has size of: 140 x 140\n"
     ]
    }
   ],
   "source": [
    "with open(\"4-input.txt\", \"r\") as file:\n",
    "    row_size = 0\n",
    "    for line in file:\n",
    "        col_size = len(list(line.strip()))\n",
    "        row_size += 1\n",
    "print(f\"Text as a matrix has size of: {row_size} x {col_size}\")"
   ]
  },
  {
   "cell_type": "code",
   "execution_count": 2,
   "id": "0897e35d-d69f-4fa6-aa2e-7734e6e64a3a",
   "metadata": {},
   "outputs": [],
   "source": [
    "import numpy as np\n",
    "data = np.zeros((row_size, col_size), dtype=str)\n",
    "\n",
    "# Fill up matrix with our data\n",
    "with open(\"4-input.txt\", \"r\") as file:\n",
    "    row_count = 0\n",
    "    for line in file:\n",
    "        arr = np.array(list(line.strip()))\n",
    "        data[row_count,:] = arr\n",
    "        row_count += 1"
   ]
  },
  {
   "cell_type": "code",
   "execution_count": 3,
   "id": "b136a273-16c6-4e60-be77-c4c234fc3541",
   "metadata": {},
   "outputs": [
    {
     "name": "stdout",
     "output_type": "stream",
     "text": [
      "Found 2434 XMAS\n"
     ]
    }
   ],
   "source": [
    "def find_occurrences(data, target=\"XMAS\"):\n",
    "    string_size = len(target)\n",
    "    occurrences = []\n",
    "\n",
    "    # HORIZONTAL SEARCH \n",
    "    for row in range(row_size):\n",
    "        for col in range(col_size - string_size + 1):\n",
    "            \n",
    "            # LEFT TO RIGHT \n",
    "            if ''.join(data[row, col:col + string_size]) == target: # ''.join() combines the elements of the list into a single string\n",
    "                occurrences.append(((row, col), 'horizontal'))\n",
    "\n",
    "            # RIGHT TO LEFT\n",
    "            if ''.join(data[row, col:col + string_size][::-1]) == target: # [::-1] = string reversed\n",
    "                occurrences.append(((row, col + string_size - 1), 'backward horizontal'))\n",
    "\n",
    "    # VERTICAL SEARCH\n",
    "    for col in range(col_size):\n",
    "        for row in range(row_size - string_size + 1):\n",
    "            \n",
    "            # TOP TO BOTTOM \n",
    "            if ''.join(data[row:row + string_size, col]) == target:\n",
    "                occurrences.append(((row, col), 'vertical'))\n",
    "\n",
    "            # BOTTOM TO TOP \n",
    "            if ''.join(data[row:row + string_size, col][::-1]) == target:\n",
    "                occurrences.append(((row + string_size - 1, col), 'backward vertical'))\n",
    "\n",
    "    # DIAGONAL SEARCH \n",
    "    for row in range(row_size - string_size + 1):\n",
    "        for col in range(col_size - string_size + 1):\n",
    "            \n",
    "            # TOP LEFT TO BOTTOM RIGHT \n",
    "            if ''.join([data[row + i, col + i] for i in range(string_size)]) == target:\n",
    "                occurrences.append(((row, col), 'diagonal down right'))\n",
    "\n",
    "            # BOTTOM LEFT TO TOP RIGHT \n",
    "            if ''.join([data[row + string_size - 1 - i, col + i] for i in range(string_size)]) == target:\n",
    "                occurrences.append(((row + string_size - 1, col), 'diagonal up right'))\n",
    "\n",
    "            # TOP RIGHT TO BOTTOM LEFT \n",
    "            if ''.join([data[row + i, col + string_size - 1 - i] for i in range(string_size)]) == target:\n",
    "                occurrences.append(((row, col + string_size - 1), 'diagonal down left'))\n",
    "\n",
    "            # BOTTOM RIGHT TO TOP LEFT \n",
    "            if ''.join([data[row + string_size - 1 - i, col + string_size - 1 - i] for i in range(string_size)]) == target:\n",
    "                occurrences.append(((row + string_size - 1, col + string_size - 1), 'diagonal up left'))\n",
    "\n",
    "    return occurrences\n",
    "\n",
    "# Find all occurrences of \"XMAS\"\n",
    "occurrences = find_occurrences(data, \"XMAS\")\n",
    "print(f\"Found {len(occurrences)} XMAS\")"
   ]
  },
  {
   "cell_type": "markdown",
   "id": "91936ee9-9018-4ddd-ba4c-b17a417163a0",
   "metadata": {},
   "source": [
    "### Part Two - Find real \"X-MAS\""
   ]
  },
  {
   "cell_type": "markdown",
   "id": "77c7b959-8ce0-462c-9d13-eef3e3bff061",
   "metadata": {},
   "source": [
    "M.S  \n",
    ".A.  \n",
    "M.S  "
   ]
  },
  {
   "cell_type": "code",
   "execution_count": 4,
   "id": "b438d679-dd53-4b55-9401-1c3cd33901c3",
   "metadata": {},
   "outputs": [
    {
     "name": "stdout",
     "output_type": "stream",
     "text": [
      "Found 1835 X-MAS\n"
     ]
    }
   ],
   "source": [
    "def find_xmas_occurrences(data):\n",
    "    \n",
    "    row_size, col_size = data.shape\n",
    "    xmas_count = 0\n",
    "    \n",
    "    # Find \"A\" as a center of \"X\"\n",
    "    for row in range(1, row_size - 1):\n",
    "        for col in range(1, col_size - 1):\n",
    "            if data[row, col] == 'A':\n",
    "               \n",
    "                # \"S\" and \"M\" letters should be at (with respect to \"A\" position):\n",
    "                # [-1, -1] = top left\n",
    "                # [-1,  1] = top right\n",
    "                # [ 1, -1] = botton left\n",
    "                # [ 1,  1] = bottom right\n",
    "\n",
    "                # Check diagonals for 4 potential settings:\n",
    "                \n",
    "                # 1) \n",
    "                if (\n",
    "                    data[row - 1, col - 1] == 'M' and\n",
    "                    data[row - 1, col + 1] == 'S' and\n",
    "                    data[row + 1, col - 1] == 'M' and\n",
    "                    data[row + 1, col + 1] == 'S'\n",
    "                ):\n",
    "                    xmas_count += 1\n",
    "\n",
    "                # 2)\n",
    "                if (\n",
    "                    data[row - 1, col - 1] == 'M' and\n",
    "                    data[row - 1, col + 1] == 'M' and\n",
    "                    data[row + 1, col - 1] == 'S' and\n",
    "                    data[row + 1, col + 1] == 'S'\n",
    "                ):\n",
    "                    xmas_count += 1\n",
    "\n",
    "                # 3)\n",
    "                if (\n",
    "                    data[row - 1, col - 1] == 'S' and\n",
    "                    data[row - 1, col + 1] == 'S' and\n",
    "                    data[row + 1, col - 1] == 'M' and\n",
    "                    data[row + 1, col + 1] == 'M'\n",
    "                ):\n",
    "                    xmas_count += 1\n",
    "\n",
    "                # 4)\n",
    "                if (\n",
    "                    data[row - 1, col - 1] == 'S' and\n",
    "                    data[row - 1, col + 1] == 'M' and\n",
    "                    data[row + 1, col - 1] == 'S' and\n",
    "                    data[row + 1, col + 1] == 'M'\n",
    "                ):\n",
    "                    xmas_count += 1\n",
    "\n",
    "    return xmas_count\n",
    "\n",
    "xmas_count = find_xmas_occurrences(data)\n",
    "print(f\"Found {xmas_count} X-MAS\")"
   ]
  }
 ],
 "metadata": {
  "kernelspec": {
   "display_name": "Python 3 (ipykernel)",
   "language": "python",
   "name": "python3"
  },
  "language_info": {
   "codemirror_mode": {
    "name": "ipython",
    "version": 3
   },
   "file_extension": ".py",
   "mimetype": "text/x-python",
   "name": "python",
   "nbconvert_exporter": "python",
   "pygments_lexer": "ipython3",
   "version": "3.8.18"
  }
 },
 "nbformat": 4,
 "nbformat_minor": 5
}
