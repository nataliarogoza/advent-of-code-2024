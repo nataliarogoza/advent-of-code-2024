{
 "cells": [
  {
   "cell_type": "markdown",
   "id": "1bc46eca-7d41-4b83-a2a4-813b1f5a8fb8",
   "metadata": {},
   "source": [
    "# Advent of Code 2024"
   ]
  },
  {
   "cell_type": "markdown",
   "id": "8892cc5f-97e8-4cea-ac66-9252dc2afd45",
   "metadata": {},
   "source": [
    "## Day 7"
   ]
  },
  {
   "cell_type": "code",
   "execution_count": 1,
   "id": "216fae39-2240-4dfc-9d81-373e1e59b1c5",
   "metadata": {},
   "outputs": [],
   "source": [
    "from itertools import product"
   ]
  },
  {
   "cell_type": "markdown",
   "id": "ce98874b-93fc-4285-9836-8991bc33c890",
   "metadata": {},
   "source": [
    "### Part One - Calculate the total calibration result"
   ]
  },
  {
   "cell_type": "code",
   "execution_count": 2,
   "id": "c76aa2c4-9af1-4aa4-8e58-b98267639790",
   "metadata": {},
   "outputs": [],
   "source": [
    "def calculate_equation(numbers, operators):\n",
    "    \n",
    "    current_result = int(numbers[0])\n",
    "    \n",
    "    for i in range(1, len(numbers)):\n",
    "        current_operator = operators[i - 1]\n",
    "        next_number = int(numbers[i])\n",
    "\n",
    "        if current_operator == \"+\":\n",
    "            current_result += next_number\n",
    "        elif current_operator == \"*\":\n",
    "            current_result *= next_number\n",
    "            \n",
    "    return current_result\n",
    "\n",
    "def solve_equations(filename):\n",
    "    \n",
    "    overall_sum = 0\n",
    "\n",
    "    # IMPORTANT: processing data line by line due to memory consumption\n",
    "    with open(filename, \"r\") as file:\n",
    "        for line in file:\n",
    "            # extract data for current calibration line\n",
    "            result_str, numbers_str = line.split(\":\")\n",
    "            result = int(result_str)  \n",
    "            numbers = numbers_str.strip().split(\" \")  \n",
    "\n",
    "            # find all possible operator combinations (between numbers)\n",
    "            operators = [\"*\", \"+\"]\n",
    "            count_of_operators = len(numbers) - 1\n",
    "\n",
    "            # find all combinations of operators for the positions between numbers\n",
    "            combs = product(operators, repeat=count_of_operators)\n",
    "\n",
    "            # try each combination of operators for given numbers\n",
    "            for comb in combs:\n",
    "                current_result = calculate_equation(numbers, comb)\n",
    "                if current_result == result:\n",
    "                    overall_sum += result\n",
    "                    break  # no need to check further if true equation was already found\n",
    "\n",
    "    return overall_sum"
   ]
  },
  {
   "cell_type": "markdown",
   "id": "6d976d46-70df-4e63-a7de-987900c8ea92",
   "metadata": {},
   "source": [
    "#### TEST FILE"
   ]
  },
  {
   "cell_type": "code",
   "execution_count": 3,
   "id": "73c30caa-aea1-43ba-860f-8b6c380d4fa9",
   "metadata": {},
   "outputs": [
    {
     "name": "stdout",
     "output_type": "stream",
     "text": [
      "3749\n"
     ]
    }
   ],
   "source": [
    "overall_sum = solve_equations(\"test.txt\")\n",
    "print(overall_sum)"
   ]
  },
  {
   "cell_type": "markdown",
   "id": "078e06a8-2e9f-44bb-9449-e450d8f863ca",
   "metadata": {},
   "source": [
    "#### MY FILE"
   ]
  },
  {
   "cell_type": "code",
   "execution_count": 4,
   "id": "a7497df9-8668-4163-a958-3bc453d33a5d",
   "metadata": {},
   "outputs": [
    {
     "name": "stdout",
     "output_type": "stream",
     "text": [
      "5837374519342\n"
     ]
    }
   ],
   "source": [
    "overall_sum = solve_equations(\"7-input.txt\")\n",
    "print(overall_sum)"
   ]
  },
  {
   "cell_type": "markdown",
   "id": "262ddd66-b563-424f-bdad-28be985be51f",
   "metadata": {},
   "source": [
    "### Part Two - Calculate the total calibration result including concatenation"
   ]
  },
  {
   "cell_type": "code",
   "execution_count": 5,
   "id": "e0c37759-24c7-475c-a9d2-b61a5ee22a96",
   "metadata": {},
   "outputs": [],
   "source": [
    "def calculate_equation_2(numbers, operators):\n",
    "    current_result = int(numbers[0]) \n",
    "\n",
    "    for i in range(1, len(numbers)):\n",
    "        current_operator = operators[i - 1]\n",
    "        next_number = int(numbers[i])  \n",
    "\n",
    "        if current_operator == \"+\":\n",
    "            current_result += next_number\n",
    "        elif current_operator == \"*\":\n",
    "            current_result *= next_number\n",
    "        elif current_operator == \"||\":\n",
    "            current_result = int(str(current_result) + str(next_number)) # combine the current_result with the next_number\n",
    "    \n",
    "    return current_result\n",
    "\n",
    "def solve_equations_2(filename):\n",
    "    overall_sum = 0\n",
    "\n",
    "    with open(filename, \"r\") as file:\n",
    "        for line in file:\n",
    "            result_str, numbers_str = line.split(\":\")\n",
    "            result = int(result_str) \n",
    "            numbers = numbers_str.strip().split(\" \")  \n",
    "\n",
    "            operators = [\"*\", \"+\", \"||\"] # update by new operator\n",
    "            count_of_operators = len(numbers) - 1\n",
    "\n",
    "            combs = product(operators, repeat=count_of_operators)\n",
    "\n",
    "            for comb in combs:\n",
    "                current_result = calculate_equation_2(numbers, comb)\n",
    "                if current_result == result:\n",
    "                    overall_sum += result\n",
    "                    break  \n",
    "\n",
    "    return overall_sum"
   ]
  },
  {
   "cell_type": "markdown",
   "id": "741a6a18-d122-4a68-8d54-2ae4abd9d49a",
   "metadata": {},
   "source": [
    "#### TEST FILE"
   ]
  },
  {
   "cell_type": "code",
   "execution_count": 6,
   "id": "67bff550-4854-4736-9ba5-e2c2eae2614b",
   "metadata": {},
   "outputs": [
    {
     "name": "stdout",
     "output_type": "stream",
     "text": [
      "11387\n"
     ]
    }
   ],
   "source": [
    "overall_sum = solve_equations_2(\"test.txt\")\n",
    "print(overall_sum)"
   ]
  },
  {
   "cell_type": "markdown",
   "id": "d5c88c77-9891-4b73-8021-9b356585843d",
   "metadata": {},
   "source": [
    "#### MY FILE"
   ]
  },
  {
   "cell_type": "code",
   "execution_count": 7,
   "id": "0f30e06e-6c6b-46c4-874c-f89330215a5f",
   "metadata": {},
   "outputs": [
    {
     "name": "stdout",
     "output_type": "stream",
     "text": [
      "492383931650959\n"
     ]
    }
   ],
   "source": [
    "overall_sum = solve_equations_2(\"7-input.txt\")\n",
    "print(overall_sum)"
   ]
  }
 ],
 "metadata": {
  "kernelspec": {
   "display_name": "Python 3 (ipykernel)",
   "language": "python",
   "name": "python3"
  },
  "language_info": {
   "codemirror_mode": {
    "name": "ipython",
    "version": 3
   },
   "file_extension": ".py",
   "mimetype": "text/x-python",
   "name": "python",
   "nbconvert_exporter": "python",
   "pygments_lexer": "ipython3",
   "version": "3.8.18"
  }
 },
 "nbformat": 4,
 "nbformat_minor": 5
}
