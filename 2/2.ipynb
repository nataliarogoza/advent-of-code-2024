{
 "cells": [
  {
   "cell_type": "markdown",
   "id": "1bc46eca-7d41-4b83-a2a4-813b1f5a8fb8",
   "metadata": {},
   "source": [
    "# Advent of Code 2024"
   ]
  },
  {
   "cell_type": "markdown",
   "id": "8892cc5f-97e8-4cea-ac66-9252dc2afd45",
   "metadata": {},
   "source": [
    "## Day 2"
   ]
  },
  {
   "cell_type": "markdown",
   "id": "ce98874b-93fc-4285-9836-8991bc33c890",
   "metadata": {},
   "source": [
    "### Part One - Calculate number of safe reports"
   ]
  },
  {
   "cell_type": "code",
   "execution_count": 1,
   "id": "d7bc427e-a8e1-4a06-9ce2-179fa92af514",
   "metadata": {},
   "outputs": [
    {
     "name": "stdout",
     "output_type": "stream",
     "text": [
      "2 5 6 8 6\n",
      "\n",
      "['2', '5', '6', '8', '6']\n"
     ]
    }
   ],
   "source": [
    "# Check the first line of input file\n",
    "with open(\"2-input.txt\", \"r\") as file:\n",
    "    for line in file:\n",
    "        print(line)\n",
    "        print(line.split())\n",
    "        break"
   ]
  },
  {
   "cell_type": "code",
   "execution_count": 2,
   "id": "c838dab1-3127-4c40-80c4-f2a9225ba213",
   "metadata": {},
   "outputs": [],
   "source": [
    "# Write function to check if a single report is safe \n",
    "def is_safe(report):\n",
    "    size = len(report) \n",
    "    to_check = size - 1\n",
    "    check_count = 0\n",
    "    \n",
    "    if report != sorted(report, key=int) and report != sorted(report, key=int, reverse=True): # key=int is crucial, since elements in lists are strings\n",
    "        return False\n",
    "        \n",
    "    for i in range(1,size):\n",
    "        diff = abs(int(report[i]) - int(report[i-1]))\n",
    "        if diff > 0 and diff <= 3:\n",
    "            check_count += 1\n",
    "\n",
    "    if check_count == to_check:\n",
    "        return True\n",
    "    else:\n",
    "        return False       "
   ]
  },
  {
   "cell_type": "code",
   "execution_count": 3,
   "id": "9ef4aaee-1ea2-4e9d-905b-5d47a40b9335",
   "metadata": {},
   "outputs": [
    {
     "name": "stdout",
     "output_type": "stream",
     "text": [
      "572\n"
     ]
    }
   ],
   "source": [
    "# Upload data from task\n",
    "safe = 0\n",
    "with open(\"2-input.txt\", \"r\") as file:\n",
    "    for line in file:\n",
    "        report = line.split()\n",
    "        if is_safe(report):\n",
    "            safe += 1\n",
    "print(safe)"
   ]
  },
  {
   "cell_type": "markdown",
   "id": "c3e8b9d0-4b27-4761-8038-8bafd416e72a",
   "metadata": {},
   "source": [
    "### Part Two - Calculate number of safe reports with Problem Dampener"
   ]
  },
  {
   "cell_type": "code",
   "execution_count": 4,
   "id": "9139bb5b-0358-4b28-9fda-3c09d046ffd1",
   "metadata": {},
   "outputs": [
    {
     "name": "stdout",
     "output_type": "stream",
     "text": [
      "612\n"
     ]
    }
   ],
   "source": [
    "# Do the same but check every possible sublist now\n",
    "safe = 0\n",
    "with open(\"2-input.txt\", \"r\") as file:\n",
    "    for line in file:\n",
    "        report = line.split()\n",
    "        size = len(report)\n",
    "        removed_levels = False\n",
    "        for i in range(size):\n",
    "            temp = list(report)\n",
    "            del temp[i]\n",
    "            if is_safe(temp): # use the same function but check sublists\n",
    "                removed_levels = True\n",
    "                break\n",
    "        if removed_levels:\n",
    "            safe += 1\n",
    "    print(safe)"
   ]
  }
 ],
 "metadata": {
  "kernelspec": {
   "display_name": "Python 3 (ipykernel)",
   "language": "python",
   "name": "python3"
  },
  "language_info": {
   "codemirror_mode": {
    "name": "ipython",
    "version": 3
   },
   "file_extension": ".py",
   "mimetype": "text/x-python",
   "name": "python",
   "nbconvert_exporter": "python",
   "pygments_lexer": "ipython3",
   "version": "3.8.18"
  }
 },
 "nbformat": 4,
 "nbformat_minor": 5
}
