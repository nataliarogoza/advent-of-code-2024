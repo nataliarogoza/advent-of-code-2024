{
 "cells": [
  {
   "cell_type": "markdown",
   "id": "1bc46eca-7d41-4b83-a2a4-813b1f5a8fb8",
   "metadata": {},
   "source": [
    "# Advent of Code 2024"
   ]
  },
  {
   "cell_type": "markdown",
   "id": "8892cc5f-97e8-4cea-ac66-9252dc2afd45",
   "metadata": {},
   "source": [
    "## Day 6"
   ]
  },
  {
   "cell_type": "markdown",
   "id": "ce98874b-93fc-4285-9836-8991bc33c890",
   "metadata": {},
   "source": [
    "### Part One - Calculate distinct positions the guard will visit before leaving the mapped area"
   ]
  },
  {
   "cell_type": "code",
   "execution_count": 1,
   "id": "033da75b-49ba-42d0-82bf-eff1e639b0d0",
   "metadata": {},
   "outputs": [],
   "source": [
    "import numpy as np"
   ]
  },
  {
   "cell_type": "markdown",
   "id": "553abc0d-c12c-4797-96f2-9df0cc4b04fc",
   "metadata": {},
   "source": [
    "#### TEST FILE"
   ]
  },
  {
   "cell_type": "code",
   "execution_count": 2,
   "id": "431235e0-3519-46b4-8507-d9b68eb78c9b",
   "metadata": {},
   "outputs": [],
   "source": [
    "def rotate(direction):\n",
    "    if direction == \"^\":\n",
    "        return \">\"\n",
    "    elif direction == \">\":\n",
    "        return \"v\"\n",
    "    elif direction == \"v\":\n",
    "        return \"<\"\n",
    "    elif direction == \"<\":\n",
    "        return \"^\""
   ]
  },
  {
   "cell_type": "code",
   "execution_count": 3,
   "id": "ae307457-74c3-4dc7-81cb-d0155b29b1d0",
   "metadata": {},
   "outputs": [],
   "source": [
    "def walk(start, room, obstructions):\n",
    "    \n",
    "    # initialize size, starting position and direction\n",
    "    row_size, col_size = room.shape\n",
    "    pos = start\n",
    "    direction = room[pos]\n",
    "    \n",
    "    print(f\"START\\n {room}\")\n",
    "    \n",
    "    # run \"the walk\"\n",
    "    while 0 <= pos[0] < row_size and 0 <= pos[1] < col_size:\n",
    "        room[pos] = \"X\"\n",
    "        #print(f\"Current direction: {direction}, current position: {pos}\\n\")\n",
    "    \n",
    "        # move up (change of row)\n",
    "        if direction == \"^\":\n",
    "            # check if the next potential move (going up) is possible\n",
    "            if (pos[0] - 1, pos[1]) not in obstructions: \n",
    "                pos = (pos[0] - 1, pos[1])\n",
    "            # if not, rotate\n",
    "            else: \n",
    "                direction = rotate(direction)\n",
    "    \n",
    "    \n",
    "        # move right (change of column)\n",
    "        elif direction == \">\":\n",
    "            if (pos[0], pos[1] + 1) not in obstructions:\n",
    "                pos = (pos[0], pos[1] + 1)\n",
    "            else:\n",
    "                direction = rotate(direction)\n",
    "    \n",
    "    \n",
    "        # move down (change of row)\n",
    "        elif direction == \"v\":\n",
    "            if (pos[0] + 1, pos[1]) not in obstructions:\n",
    "                pos = (pos[0] + 1, pos[1])\n",
    "            else:\n",
    "                direction = rotate(direction)\n",
    "    \n",
    "    \n",
    "        # move left (change of column)\n",
    "        elif direction == \"<\":\n",
    "            if (pos[0], pos[1] - 1) not in obstructions:\n",
    "                pos = (pos[0], pos[1] - 1)\n",
    "            else:\n",
    "                direction = rotate(direction)\n",
    "    \n",
    "    \n",
    "    answer = (room == \"X\").sum()\n",
    "    \n",
    "    print(f\"END\\n {room}\\n\")\n",
    "    print(f\"The guard will visit {answer} positions before leaving\")\n",
    "\n",
    "    return answer"
   ]
  },
  {
   "cell_type": "code",
   "execution_count": 4,
   "id": "f3436255-7318-4aad-9200-fd55636bd4c5",
   "metadata": {},
   "outputs": [
    {
     "name": "stdout",
     "output_type": "stream",
     "text": [
      "START\n",
      " [['.' '.' '.' '.' '#' '.' '.' '.' '.' '.']\n",
      " ['.' '.' '.' '.' '.' '.' '.' '.' '.' '#']\n",
      " ['.' '.' '.' '.' '.' '.' '.' '.' '.' '.']\n",
      " ['.' '.' '#' '.' '.' '.' '.' '.' '.' '.']\n",
      " ['.' '.' '.' '.' '.' '.' '.' '#' '.' '.']\n",
      " ['.' '.' '.' '.' '.' '.' '.' '.' '.' '.']\n",
      " ['.' '#' '.' '.' '^' '.' '.' '.' '.' '.']\n",
      " ['.' '.' '.' '.' '.' '.' '.' '.' '#' '.']\n",
      " ['#' '.' '.' '.' '.' '.' '.' '.' '.' '.']\n",
      " ['.' '.' '.' '.' '.' '.' '#' '.' '.' '.']]\n",
      "END\n",
      " [['.' '.' '.' '.' '#' '.' '.' '.' '.' '.']\n",
      " ['.' '.' '.' '.' 'X' 'X' 'X' 'X' 'X' '#']\n",
      " ['.' '.' '.' '.' 'X' '.' '.' '.' 'X' '.']\n",
      " ['.' '.' '#' '.' 'X' '.' '.' '.' 'X' '.']\n",
      " ['.' '.' 'X' 'X' 'X' 'X' 'X' '#' 'X' '.']\n",
      " ['.' '.' 'X' '.' 'X' '.' 'X' '.' 'X' '.']\n",
      " ['.' '#' 'X' 'X' 'X' 'X' 'X' 'X' 'X' '.']\n",
      " ['.' 'X' 'X' 'X' 'X' 'X' 'X' 'X' '#' '.']\n",
      " ['#' 'X' 'X' 'X' 'X' 'X' 'X' 'X' '.' '.']\n",
      " ['.' '.' '.' '.' '.' '.' '#' 'X' '.' '.']]\n",
      "\n",
      "The guard will visit 41 positions before leaving\n"
     ]
    },
    {
     "data": {
      "text/plain": [
       "41"
      ]
     },
     "execution_count": 4,
     "metadata": {},
     "output_type": "execute_result"
    }
   ],
   "source": [
    "import numpy as np\n",
    "\n",
    "# read the file and initialize the area as a \"room\"\n",
    "with open(\"test.txt\", \"r\") as file:\n",
    "    row_size = 0\n",
    "    for line in file:\n",
    "        col_size = len(line.strip())\n",
    "        row_size += 1\n",
    "room = np.zeros((row_size, col_size), dtype=str)\n",
    "\n",
    "# fill the room with data\n",
    "with open(\"test.txt\", \"r\") as file:\n",
    "    row_count = 0\n",
    "    for line in file:\n",
    "        arr = np.array(list(line.strip()))\n",
    "        room[row_count, :] = arr\n",
    "        row_count += 1\n",
    "\n",
    "# check for obstructions and a starting position direction\n",
    "obstructions = []\n",
    "for n, row in enumerate(room):\n",
    "    for m, col in enumerate(row):\n",
    "        if col == \"#\":\n",
    "            obstructions.append((n, m))\n",
    "        if col in [\">\", \"<\", \"^\", \"v\"]:\n",
    "            start = (n, m)\n",
    "\n",
    "walk(start, room, obstructions)"
   ]
  },
  {
   "cell_type": "markdown",
   "id": "3367fb76-c88a-4da3-b07c-b5e7bcd054c0",
   "metadata": {},
   "source": [
    "#### MY FILE"
   ]
  },
  {
   "cell_type": "code",
   "execution_count": 5,
   "id": "cd742d7b-337e-44d8-a3ca-63db8c818a46",
   "metadata": {},
   "outputs": [
    {
     "name": "stdout",
     "output_type": "stream",
     "text": [
      "START\n",
      " [['.' '.' '.' ... '.' '#' '.']\n",
      " ['.' '.' '.' ... '.' '.' '.']\n",
      " ['.' '.' '.' ... '.' '.' '.']\n",
      " ...\n",
      " ['.' '.' '.' ... '.' '.' '.']\n",
      " ['.' '.' '.' ... '.' '.' '.']\n",
      " ['.' '.' '.' ... '.' '.' '.']]\n",
      "END\n",
      " [['.' '.' '.' ... '.' '#' '.']\n",
      " ['.' '.' '.' ... '.' '.' '.']\n",
      " ['.' '.' '.' ... '.' '.' '.']\n",
      " ...\n",
      " ['.' '.' '.' ... '.' '.' '.']\n",
      " ['.' '.' '.' ... '.' '.' '.']\n",
      " ['.' '.' '.' ... '.' '.' '.']]\n",
      "\n",
      "The guard will visit 4883 positions before leaving\n"
     ]
    },
    {
     "data": {
      "text/plain": [
       "4883"
      ]
     },
     "execution_count": 5,
     "metadata": {},
     "output_type": "execute_result"
    }
   ],
   "source": [
    "# read the file and initialize the area as a \"room\"\n",
    "with open(\"6-input.txt\", \"r\") as file:\n",
    "    row_size = 0\n",
    "    for line in file:\n",
    "        col_size = len(line.strip())\n",
    "        row_size += 1\n",
    "room = np.zeros((row_size, col_size), dtype=str)\n",
    "\n",
    "# fill the room with data\n",
    "with open(\"6-input.txt\", \"r\") as file:\n",
    "    row_count = 0\n",
    "    for line in file:\n",
    "        arr = np.array(list(line.strip()))\n",
    "        room[row_count, :] = arr\n",
    "        row_count += 1\n",
    "\n",
    "# check for obstructions and a starting position direction\n",
    "obstructions = []\n",
    "for n, row in enumerate(room):\n",
    "    for m, col in enumerate(row):\n",
    "        if col == \"#\":\n",
    "            obstructions.append((n, m))\n",
    "        if col in [\">\", \"<\", \"^\", \"v\"]:\n",
    "            start = (n, m)\n",
    "\n",
    "walk(start, room, obstructions)"
   ]
  },
  {
   "cell_type": "markdown",
   "id": "c94e07bb-ebeb-4a40-a8d3-1542a34377c1",
   "metadata": {},
   "source": [
    "### Part Two - Search for ways to get guard stuck"
   ]
  },
  {
   "cell_type": "markdown",
   "id": "eabb50b5-552c-44c2-8dde-12393e3f13f0",
   "metadata": {},
   "source": [
    "#### TEST FILE"
   ]
  },
  {
   "cell_type": "code",
   "execution_count": 6,
   "id": "cc99aef4-6931-49ba-b05a-fe2a8e2563c5",
   "metadata": {},
   "outputs": [],
   "source": [
    "def is_walk_loop(start, room, obstructions):\n",
    "    \n",
    "    # initialize size, starting position and direction\n",
    "    row_size, col_size = room.shape\n",
    "    pos = start\n",
    "    direction = room[pos]\n",
    "    states = set()\n",
    "    \n",
    "    # run \"the walk\"\n",
    "    while 0 <= pos[0] < row_size and 0 <= pos[1] < col_size:\n",
    "\n",
    "        state = (pos, direction)\n",
    "        if state in states:\n",
    "            return True  # Loop \n",
    "        states.add(state)\n",
    "        \n",
    "        #print(f\"Current direction: {direction}, current position: {pos}\\n\")\n",
    "    \n",
    "        # move up (change of row)\n",
    "        if direction == \"^\":\n",
    "            # check if the next potential move (going up) is possible\n",
    "            if (pos[0] - 1, pos[1]) not in obstructions: \n",
    "                pos = (pos[0] - 1, pos[1])\n",
    "            # if not, rotate\n",
    "            else: \n",
    "                direction = rotate(direction)\n",
    "    \n",
    "    \n",
    "        # move right (change of column)\n",
    "        elif direction == \">\":\n",
    "            if (pos[0], pos[1] + 1) not in obstructions:\n",
    "                pos = (pos[0], pos[1] + 1)\n",
    "            else:\n",
    "                direction = rotate(direction)\n",
    "    \n",
    "    \n",
    "        # move down (change of row)\n",
    "        elif direction == \"v\":\n",
    "            if (pos[0] + 1, pos[1]) not in obstructions:\n",
    "                pos = (pos[0] + 1, pos[1])\n",
    "            else:\n",
    "                direction = rotate(direction)\n",
    "    \n",
    "    \n",
    "        # move left (change of column)\n",
    "        elif direction == \"<\":\n",
    "            if (pos[0], pos[1] - 1) not in obstructions:\n",
    "                pos = (pos[0], pos[1] - 1)\n",
    "            else:\n",
    "                direction = rotate(direction)\n",
    "\n",
    "    return False"
   ]
  },
  {
   "cell_type": "code",
   "execution_count": 7,
   "id": "70729827-b6cf-48d0-bedc-d719e299ac6c",
   "metadata": {},
   "outputs": [
    {
     "name": "stdout",
     "output_type": "stream",
     "text": [
      "(6, 3)\n",
      "(7, 6)\n",
      "(7, 7)\n",
      "(8, 1)\n",
      "(8, 3)\n",
      "(9, 7)\n",
      "6\n"
     ]
    }
   ],
   "source": [
    "import numpy as np\n",
    "\n",
    "# read the file and initialize the area as a \"room\"\n",
    "with open(\"test.txt\", \"r\") as file:\n",
    "    row_size = 0\n",
    "    for line in file:\n",
    "        col_size = len(line.strip())\n",
    "        row_size += 1\n",
    "room = np.zeros((row_size, col_size), dtype=str)\n",
    "\n",
    "# fill the room with data\n",
    "with open(\"test.txt\", \"r\") as file:\n",
    "    row_count = 0\n",
    "    for line in file:\n",
    "        arr = np.array(list(line.strip()))\n",
    "        room[row_count, :] = arr\n",
    "        row_count += 1\n",
    "\n",
    "# check for obstructions and a starting position direction\n",
    "obstructions = []\n",
    "for n, row in enumerate(room):\n",
    "    for m, col in enumerate(row):\n",
    "        if col == \"#\":\n",
    "            obstructions.append((n, m))\n",
    "        if col in [\">\", \"<\", \"^\", \"v\"]:\n",
    "            start = (n, m)\n",
    "\n",
    "taken = list(obstructions)\n",
    "taken.append(start)\n",
    "\n",
    "loop_count = 0\n",
    "\n",
    "for row in range(row_size):\n",
    "    for col in range(col_size):\n",
    "        check = (row, col)\n",
    "        if check not in taken:\n",
    "            temp_obstructions = list(obstructions)\n",
    "            temp_obstructions.append(check)\n",
    "            \n",
    "            is_loop = is_walk_loop(start, room, temp_obstructions)\n",
    "\n",
    "            if is_loop:\n",
    "                loop_count += 1\n",
    "                print(check)\n",
    "print(loop_count)"
   ]
  },
  {
   "cell_type": "markdown",
   "id": "f8f2154c-a8ab-4141-99dd-90dea70eafe7",
   "metadata": {},
   "source": [
    "#### MY FILE "
   ]
  },
  {
   "cell_type": "markdown",
   "id": "456d5724-f4c8-49ae-a33e-28f1eeb071e8",
   "metadata": {},
   "source": [
    "##### Takes a long time - might consider optimization"
   ]
  },
  {
   "cell_type": "code",
   "execution_count": 8,
   "id": "d68fc9b5-197d-461f-a411-0d3cc6ef024d",
   "metadata": {},
   "outputs": [
    {
     "name": "stdout",
     "output_type": "stream",
     "text": [
      "1655\n"
     ]
    }
   ],
   "source": [
    "import numpy as np\n",
    "\n",
    "# read the file and initialize the area as a \"room\"\n",
    "with open(\"6-input.txt\", \"r\") as file:\n",
    "    row_size = 0\n",
    "    for line in file:\n",
    "        col_size = len(line.strip())\n",
    "        row_size += 1\n",
    "room = np.zeros((row_size, col_size), dtype=str)\n",
    "\n",
    "# fill the room with data\n",
    "with open(\"6-input.txt\", \"r\") as file:\n",
    "    row_count = 0\n",
    "    for line in file:\n",
    "        arr = np.array(list(line.strip()))\n",
    "        room[row_count, :] = arr\n",
    "        row_count += 1\n",
    "\n",
    "# check for obstructions and a starting position direction\n",
    "obstructions = []\n",
    "for n, row in enumerate(room):\n",
    "    for m, col in enumerate(row):\n",
    "        if col == \"#\":\n",
    "            obstructions.append((n, m))\n",
    "        if col in [\">\", \"<\", \"^\", \"v\"]:\n",
    "            start = (n, m)\n",
    "\n",
    "taken = list(obstructions)\n",
    "taken.append(start)\n",
    "\n",
    "loop_count = 0\n",
    "\n",
    "for row in range(row_size):\n",
    "    for col in range(col_size):\n",
    "        check = (row, col)\n",
    "        if check not in taken:\n",
    "        \n",
    "            temp_obstructions = list(obstructions)\n",
    "            temp_obstructions.append(check) \n",
    "            is_loop = is_walk_loop(start, room, temp_obstructions)\n",
    "\n",
    "            if is_loop:\n",
    "                loop_count += 1\n",
    "                \n",
    "print(loop_count)"
   ]
  }
 ],
 "metadata": {
  "kernelspec": {
   "display_name": "Python 3 (ipykernel)",
   "language": "python",
   "name": "python3"
  },
  "language_info": {
   "codemirror_mode": {
    "name": "ipython",
    "version": 3
   },
   "file_extension": ".py",
   "mimetype": "text/x-python",
   "name": "python",
   "nbconvert_exporter": "python",
   "pygments_lexer": "ipython3",
   "version": "3.8.18"
  }
 },
 "nbformat": 4,
 "nbformat_minor": 5
}
