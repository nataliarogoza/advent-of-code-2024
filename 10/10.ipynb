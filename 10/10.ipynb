{
 "cells": [
  {
   "cell_type": "markdown",
   "id": "1bc46eca-7d41-4b83-a2a4-813b1f5a8fb8",
   "metadata": {},
   "source": [
    "# Advent of Code 2024"
   ]
  },
  {
   "cell_type": "markdown",
   "id": "8892cc5f-97e8-4cea-ac66-9252dc2afd45",
   "metadata": {},
   "source": [
    "## Day 10"
   ]
  },
  {
   "cell_type": "markdown",
   "id": "ce98874b-93fc-4285-9836-8991bc33c890",
   "metadata": {},
   "source": [
    "### Part One - Calculate the sum of the scores of all trailheads on the topographic map"
   ]
  },
  {
   "cell_type": "code",
   "execution_count": 1,
   "id": "0e7e76d2-418a-443a-8f6e-f5c5f83105a8",
   "metadata": {},
   "outputs": [],
   "source": [
    "import numpy as np"
   ]
  },
  {
   "cell_type": "code",
   "execution_count": 2,
   "id": "b136a273-16c6-4e60-be77-c4c234fc3541",
   "metadata": {},
   "outputs": [],
   "source": [
    "def search_trail(trailhead, num, data):\n",
    "    max_rows, max_cols = data.shape\n",
    "    x, y = trailhead\n",
    "    endpoints = []\n",
    "\n",
    "    # return the endpoint if the trail reached the end\n",
    "    if num == 9:\n",
    "        return [(x, y)]  \n",
    "\n",
    "    # check for possible steps \n",
    "    for dx, dy in [(-1, 0), (1, 0), (0, -1), (0, 1)]:  # up, down, left, right\n",
    "        nx, ny = x + dx, y + dy\n",
    "        if 0 <= nx < max_rows and 0 <= ny < max_cols:  # ensure within bounds\n",
    "            if data[nx, ny] - num == 1:  # ensure the difference in potential step is exactly 1\n",
    "                # recursive call to collect all endpoints\n",
    "                endpoints += search_trail((nx, ny), num + 1, data)\n",
    "    \n",
    "    return endpoints"
   ]
  },
  {
   "cell_type": "code",
   "execution_count": 3,
   "id": "f4650eb2-7a2f-40d2-bb83-f0a5445d8157",
   "metadata": {},
   "outputs": [
    {
     "name": "stdout",
     "output_type": "stream",
     "text": [
      "[[7 6 5 ... 5 4 5]\n",
      " [8 3 4 ... 4 3 2]\n",
      " [9 2 0 ... 2 0 1]\n",
      " ...\n",
      " [6 9 0 ... 3 0 3]\n",
      " [5 4 3 ... 2 1 2]\n",
      " [4 3 4 ... 1 0 1]]\n",
      "There are 652 unique paths\n"
     ]
    }
   ],
   "source": [
    "import numpy as np\n",
    "\n",
    "# get task data\n",
    "data = []\n",
    "with open(\"10-input.txt\", \"r\") as file:\n",
    "    for line in file:\n",
    "        data.append([int(num) for num in line.strip()])\n",
    "data = np.array(data)\n",
    "print(data)\n",
    "\n",
    "# initialize dictionary for keeping \"(trailhead, endpoint): count\" pairs \n",
    "trails_found = {}\n",
    "\n",
    "for r, row in enumerate(data):\n",
    "    for c, col in enumerate(row):\n",
    "        if data[r][c] == 0:  # start from trailheads\n",
    "            trailhead = (r, c)\n",
    "            # get all endpoints for the current trailhead\n",
    "            endpoints = search_trail(trailhead, 0, data)\n",
    "            for endpoint in endpoints:\n",
    "                # count the occurrences of (trailhead, endpoint) pairs\n",
    "                if (trailhead, endpoint) not in trails_found:\n",
    "                    trails_found[(trailhead, endpoint)] = 1\n",
    "                else:\n",
    "                    trails_found[(trailhead, endpoint)] += 1\n",
    "\n",
    "print(f\"There are {len(trails_found)} unique paths\")"
   ]
  },
  {
   "cell_type": "markdown",
   "id": "fdea9cbb-2611-4678-a723-1aec7461839a",
   "metadata": {},
   "source": [
    "### Part Two - Calculate the sum of the ratings of all trailheads"
   ]
  },
  {
   "cell_type": "code",
   "execution_count": 4,
   "id": "e502c310-cf86-4d1a-ba52-0a2af9a9a7d8",
   "metadata": {},
   "outputs": [
    {
     "data": {
      "text/plain": [
       "1432"
      ]
     },
     "execution_count": 4,
     "metadata": {},
     "output_type": "execute_result"
    }
   ],
   "source": [
    "# ratings are values in trails_found dictionary from the above, so all we need to do is sum it\n",
    "sum(trails_found.values())"
   ]
  }
 ],
 "metadata": {
  "kernelspec": {
   "display_name": "Python 3 (ipykernel)",
   "language": "python",
   "name": "python3"
  },
  "language_info": {
   "codemirror_mode": {
    "name": "ipython",
    "version": 3
   },
   "file_extension": ".py",
   "mimetype": "text/x-python",
   "name": "python",
   "nbconvert_exporter": "python",
   "pygments_lexer": "ipython3",
   "version": "3.8.18"
  }
 },
 "nbformat": 4,
 "nbformat_minor": 5
}
