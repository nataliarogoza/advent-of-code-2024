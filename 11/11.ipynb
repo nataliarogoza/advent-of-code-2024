{
 "cells": [
  {
   "cell_type": "markdown",
   "id": "1bc46eca-7d41-4b83-a2a4-813b1f5a8fb8",
   "metadata": {},
   "source": [
    "# Advent of Code 2024"
   ]
  },
  {
   "cell_type": "markdown",
   "id": "8892cc5f-97e8-4cea-ac66-9252dc2afd45",
   "metadata": {},
   "source": [
    "## Day 11"
   ]
  },
  {
   "cell_type": "markdown",
   "id": "ce98874b-93fc-4285-9836-8991bc33c890",
   "metadata": {},
   "source": [
    "### Part One - Calculate how many stones will I have after blinking 25 times"
   ]
  },
  {
   "cell_type": "code",
   "execution_count": 1,
   "id": "4e825128-0bf6-4c2c-b08c-80b579aae3b4",
   "metadata": {},
   "outputs": [],
   "source": [
    "def part_one(numbers):\n",
    "    for blink in range(25):  \n",
    "        current = []  # create a list for storing transformed numbers during each blink\n",
    "        \n",
    "        for number in numbers:\n",
    "            number_int = int(number)\n",
    "            number_str = str(number)\n",
    "\n",
    "            # Rule 1: 0 -> 1\n",
    "            if number_int == 0:\n",
    "                current.append(\"1\")\n",
    "\n",
    "            # Rule 2: split even-digit numbers into two parts\n",
    "            elif len(number_str) % 2 == 0:\n",
    "                size = len(number_str)\n",
    "                left = number_str[:size // 2].lstrip(\"0\") or \"0\" # lstrip removes all leading zeroes from the string (if it's just \"0\" - the string is empty, hence return \"0\")\n",
    "                right = number_str[size // 2:].lstrip(\"0\") or \"0\"\n",
    "                current.append(left)\n",
    "                current.append(right)\n",
    "                \n",
    "            # Rule 3: if none rules apply, multiply numbers by 2024\n",
    "            else:\n",
    "                new_number = str(number_int * 2024)\n",
    "                current.append(new_number)\n",
    "        \n",
    "        numbers = current  # update the list for the next blink\n",
    "    return len(numbers)"
   ]
  },
  {
   "cell_type": "code",
   "execution_count": 2,
   "id": "c4667dac-7072-4a90-b11a-90ca5084d86b",
   "metadata": {},
   "outputs": [
    {
     "name": "stdout",
     "output_type": "stream",
     "text": [
      "55312\n"
     ]
    }
   ],
   "source": [
    "line = \"125 17\"\n",
    "numbers = line.strip().split()  # input as list of strings\n",
    "result = part_one(numbers)\n",
    "print(result)"
   ]
  },
  {
   "cell_type": "code",
   "execution_count": 3,
   "id": "91012bb1-7369-4e94-9f6c-c83241178e74",
   "metadata": {},
   "outputs": [
    {
     "name": "stdout",
     "output_type": "stream",
     "text": [
      "218079\n"
     ]
    }
   ],
   "source": [
    "with open(\"11-input.txt\", \"r\") as file:\n",
    "    line = file.readline()\n",
    "numbers = line.strip().split()  # input as list of strings\n",
    "\n",
    "result = part_one(numbers)\n",
    "print(result)"
   ]
  },
  {
   "cell_type": "markdown",
   "id": "166051ad-34f7-47a1-83db-06b9fb2baed8",
   "metadata": {},
   "source": [
    "### Part Two - Calculate how many stones will I have after blinking 75 times"
   ]
  },
  {
   "cell_type": "markdown",
   "id": "f423918f-61cf-4d79-a846-843befa15071",
   "metadata": {},
   "source": [
    "#### resources: Reddit\n",
    "#### important changes: caching of calculated transformations, storing frequencies to avoid counting stones each time "
   ]
  },
  {
   "cell_type": "code",
   "execution_count": 4,
   "id": "b73ae0b3-9846-4222-bc86-0116cd2049f4",
   "metadata": {},
   "outputs": [],
   "source": [
    "def transform_number(number):\n",
    "    # if there is a calculated transformation already, utilize it\n",
    "    if number in cache:\n",
    "        return cache[number]\n",
    "\n",
    "    number_int = int(number)\n",
    "    number_str = str(number)\n",
    "    \n",
    "    if number_int == 0:\n",
    "        result = [\"1\"]\n",
    "    \n",
    "    elif len(number_str) % 2 == 0:\n",
    "        size = len(number_str)\n",
    "        left = number_str[:size // 2].lstrip(\"0\") or \"0\"\n",
    "        right = number_str[size // 2:].lstrip(\"0\") or \"0\"\n",
    "        result = [left, right]\n",
    "\n",
    "    else:\n",
    "        result = [str(number_int * 2024)]\n",
    "    \n",
    "    # if the transformation is calculate for the first time, store it \n",
    "    cache[number] = result\n",
    "    return result"
   ]
  },
  {
   "cell_type": "code",
   "execution_count": 5,
   "id": "c70b85ea-aa0b-4894-9827-d87b8761f8f5",
   "metadata": {},
   "outputs": [],
   "source": [
    "def part_two(numbers):\n",
    "    stones = defaultdict(int)  # dictionary to store the frequency of each stone\n",
    "\n",
    "    # count how many stones there are initially\n",
    "    for number in numbers:\n",
    "        stones[number] += 1\n",
    "\n",
    "    # blink 75 times\n",
    "    for blink in range(75):\n",
    "        #print(f\"Blink {blink + 1}\")\n",
    "        new_stones = defaultdict(int)  # temporary dictionary to store new stone counts\n",
    "        \n",
    "        # process each unique stone in the current list\n",
    "        for stone, count in stones.items():\n",
    "            transformed_stones = transform_number(stone)\n",
    "            \n",
    "            # add the transformed stones to the new list, scaled by the original frequency\n",
    "            for transformed_stone in transformed_stones:\n",
    "                new_stones[transformed_stone] += count\n",
    "        \n",
    "        # update the stones dictionary for the next blink\n",
    "        stones = new_stones\n",
    "\n",
    "    return sum(stones.values()) # sum of frequencies of unique stones = overall count of stones"
   ]
  },
  {
   "cell_type": "code",
   "execution_count": 6,
   "id": "25212d21-661b-4a6b-a151-ce4725ed0352",
   "metadata": {},
   "outputs": [
    {
     "name": "stdout",
     "output_type": "stream",
     "text": [
      "259755538429618\n"
     ]
    }
   ],
   "source": [
    "from collections import defaultdict # will automatically initialize values for keys that don't exist in the dictionary yet\n",
    "\n",
    "# store transformations for unique stones (global variable)\n",
    "cache = {}\n",
    "\n",
    "with open(\"11-input.txt\", \"r\") as file:\n",
    "    line = file.readline()\n",
    "numbers = line.strip().split()  # input as list of strings\n",
    "\n",
    "result = part_two(numbers)\n",
    "print(result)"
   ]
  }
 ],
 "metadata": {
  "kernelspec": {
   "display_name": "Python 3 (ipykernel)",
   "language": "python",
   "name": "python3"
  },
  "language_info": {
   "codemirror_mode": {
    "name": "ipython",
    "version": 3
   },
   "file_extension": ".py",
   "mimetype": "text/x-python",
   "name": "python",
   "nbconvert_exporter": "python",
   "pygments_lexer": "ipython3",
   "version": "3.12.5"
  }
 },
 "nbformat": 4,
 "nbformat_minor": 5
}
